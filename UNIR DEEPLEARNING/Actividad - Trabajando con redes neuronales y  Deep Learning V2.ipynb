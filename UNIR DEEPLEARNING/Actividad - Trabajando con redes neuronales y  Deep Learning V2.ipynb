{
 "cells": [
  {
   "cell_type": "markdown",
   "metadata": {},
   "source": [
    "# Actividad: Trabajando con redes neuronales y  Deep Learning\n",
    "## Objetivos\n",
    "\n",
    "Esta  actividad  te  permitirá  profundizar  en  la  aplicación  de  técnicas  de  aprendizaje  supervisado  (regresión  y  clasificación)  basadas  en  redes  neuronales  utilizando  las librerías Keras y TensorFlow sobre Python. Para ello, habrás de elegir dos dataset en plataformas online como Kaggle, OpenML o Google Dataset Search en base a unos requisitos mínimos especificados y aplicar, en un primer caso, una red neuronal para la regresión comparada con otra técnica de regresión no basada en redes neuronales y,  en  un  segundo  caso,  otra  red  neuronal  diferente  para  la  clasificación,  de  nuevo comparada con otra técnica de clasificación no basada en redes neuronales.\n",
    "\n",
    "## Descripción\n",
    "\n",
    "En primer lugar, repasa los siguientes contenidos teórico-prácticos de la asignatura:\n",
    "\n",
    "<ul>\n",
    "<li>Tema  2:  “Python  para  la  implementación  de  técnicas  de  inteligencia  artificial”, haciendo especial hincapié en las secciones:</li>\n",
    "    <ul>\n",
    "<li>2.6.  Librerías  útiles  para  el  análisis  de  datos  (apartados  Keras,  TensorFlow  y Pandas).</li>\n",
    "<li> 2.8. Importación de datos.</li>\n",
    "<li>2.9. Introducción a Machine Learning con librerías en Python.</li>\n",
    "    </ul>\n",
    "    <li>Tema 5: “Redes neuronales artificiales”, especialmente:</li>\n",
    "    <ul>\n",
    "        <li>5.7. Aplicaciones y ejemplos de implementación.</li>\n",
    "    </ul>\n",
    "    <li>Tema 6: “Deep Learning”, especialmente:</li>\n",
    "    <ul>\n",
    "        <li>6.12. Ejemplos de implementación.</li>\n",
    "    </ul>\n",
    " </ul>\n",
    " \n",
    "<p> El anterior repaso y la ejecución de los ejemplos incluidos en los diferentes apartados te  permitirá  asegurar  que  cuentas  en  tu  máquina  computadora  con  el  entorno  de ejecución  de  Python  y  con  todas  las  librerías  necesarias  para  llevar  a  cabo  esta actividad, además de haber realizado el ejemplo básico con TensorFlow 2.0, así como el tutorial oficial de dicha librería (secciones 2.6 y 6.12). Del mismo modo, permitirá asegurar  que  estás  familiarizado  con  los  conceptos  de  regresión  lineal  y  regresión logística (recuerda, que, en este último caso, se trata de un clasificador).</p>\n",
    " \n",
    "<p>Se recomienda encarecidamente, además, al menos seguir los dos siguientes tutoriales oficiales de TensorFlow 2.0:</p>\n",
    "TensorFlow 2.0: Conceptos básicos de AA con Keras: Regresión.\n",
    "TensorFlow 2.0: Conceptos básicos de AA con Keras: Clasificación de imágenes básica.\n",
    "\n",
    "<p><b>La  actividad  está  dividida  en  dos  apartados:  regresión  y  clasificación</b>.  Habrás  de entregar  un  único  informe  de  4  páginas  como  máximo  de  extensión  (Arial  11, interlineado  1,5)  y  dos  archivos  Python,  uno  para  el  problema  de  regresión  y  otro para el problema de clasificación. Ambos archivos han de poder ejecutarse de forma independiente el uno del otro. <b>El informe no debe incluir anexos, portada ni repetir el  enunciado  o  la  rúbrica  de  la  actividad.</b>  Cualquier  página  que  incluyas  será computada dentro de la extensión entregada. No se evaluará ninguna página a partir más  allá  de  la  cuarta  página.  <b>No  es  posible  adjuntar  ningún  archivo  adicional.</b>  El propio código Python de los dos archivos ha de ingerir/descargar automáticamente los datos de entrenamiento y test correspondientes a cada uno y trabajar sobre ellos.</p>\n",
    "\n",
    "\n",
    "<p>En ambos apartados has de utilizar, al menos, las siguientes librerías:</p>\n",
    "<ul>\n",
    "<li> Pandas para la importación de datos. </li>\n",
    "<li> Keras sobre TensorFlow 2.0 (tensorflow.keras). </li>\n",
    "<li> Eres libre de utilizar otras librerías para trabajar con otros modelos que no sean las redes neuronales (p.ej., scikit-learn), para la muestra de gráficas (p.ej., \n",
    "matplotlib o seaborn) o para otras operaciones auxiliares, si así lo necesitaras. </li>\n",
    "</ul>\n",
    "\n",
    "## APARTADO A (Regresión)\n",
    "\n",
    "Comenzamos  con  el  ejercicio  de  regresión.  En  primer  lugar,  has  de  elegir  un dataset de acceso público y disponible online. El dataset ha de ser apropiado para \n",
    "aplicar diferentes técnicas de regresión y compararlas entre sí.\n",
    "<ul>\n",
    "<li> Puedes  elegir  un  dataset  en  Kaggle,  OpenML  o  Google  Dataset  Search  (es  un metabuscador, de modo que te puede llevar igualmente a los anteriores). Otras fuentes  de  datos  son  posibles,  siempre  que  sean  de  acceso  público  y  estén disponibles  online  sin  necesidad  de  autenticarse,  pues  habrás  de  indicar  dicha fuente y se comprobará su accesibilidad para evaluar la actividad. </li>\n",
    "<li><b>El  dataset  escogido  ha  de  contar,  como  mínimo,  con  1  000  instancias  y  has  de trabajar  con  todas  ellas.  Es  tu  elección  elegir  la  fracción  que  empleas  para entrenar los modelos y la fracción que utilizas para el test de los mismos, siempre que utilices en total al menos 1 000 instancias en todos los modelos.</b></li>\n",
    "<li> El problema de regresión a resolver contará con, al menos, una variable/atributo (obviamente numérico) a la salida, y que dependa de, <b>al menos, 6 variables/atributos de entrada.</b> </li>\n",
    "<li> Describe  el  conjunto  de  datos  utilizado  y  explica  el  problema  de  regresión  a resolver (no son necesarios contenidos teóricos, sino explicar qué relaciones tratas de comprobar y con qué métodos).</li>\n",
    "</ul>\n",
    "\n",
    "### Dataset: Weather in Szeged 2006-2016\n",
    "<i>Hourly/daily summary with temperature, pressure, wind speed and more.</i>\n",
    "\n",
    "Dataset disponible en:\n",
    "https://www.kaggle.com/budincsevity/szeged-weather\n",
    "\n",
    "<p><b>Descripción</b>:<i>The CSV file includes a hourly/daily summary for Szeged, Hungary area, between 2006 and 2016. Data available in the hourly response:</i>\n",
    "<ul>\n",
    "    <li>time</li>\n",
    "    <li>summary</li>\n",
    "    <li>precipType</li>\n",
    "    <li>temperature</li>\n",
    "    <li>apparentTemperature</li>\n",
    "    <li>humidity</li>\n",
    "    <li>windSpeed</li>\n",
    "    <li>windBearing</li>\n",
    "    <li>visibility</li>\n",
    "    <li>loudCover</li>\n",
    "    <li>pressure</li>\n",
    "</ul>\n",
    "\n",
    "<p><b>Objetivo</b>: Predecir Daily Summary\n",
    "\n",
    "Utiliza la librería <b>pandas</b> para la importación del dataset. <b>No es posible adjuntar ningún  archivo  adicional.</b>  El  propio  código  Python  del  archivo  aportado  ha  de ingerir/descargar automáticamente los datos de entrenamiento y test correspondientes y trabajar sobre ellos. <b>Preprocesa los datos si fuera necesario.</b>"
   ]
  },
  {
   "cell_type": "code",
   "execution_count": 2,
   "metadata": {},
   "outputs": [],
   "source": [
    "import pandas as pd\n",
    "data_train = pd.read_csv('weatherHistory.csv')"
   ]
  },
  {
   "cell_type": "code",
   "execution_count": null,
   "metadata": {},
   "outputs": [],
   "source": [
    "#Tamaño del conjunto de datos\n",
    "data_train.shape"
   ]
  },
  {
   "cell_type": "code",
   "execution_count": null,
   "metadata": {},
   "outputs": [],
   "source": [
    "data_train[\"Daily Summary\"].unique()"
   ]
  },
  {
   "cell_type": "code",
   "execution_count": null,
   "metadata": {},
   "outputs": [],
   "source": [
    "#Primeras cinco muestras\n",
    "data_train.head()"
   ]
  },
  {
   "cell_type": "markdown",
   "metadata": {},
   "source": [
    "Lo anterior supone un problema ya que los algoritmos de regresión <b>no trabajan con valores categóricos</b>. Hay un alcance importante denominado <b>Label encoding</b> donde cada categoría se convierte en una etiqueta discreta.\n",
    "Mediante el método <code>astype('category').cat.codes</code> de -pandas se pueden convertir de categoría a números"
   ]
  },
  {
   "cell_type": "code",
   "execution_count": null,
   "metadata": {},
   "outputs": [],
   "source": [
    "data_train[\"Daily Summary\"] = data_train[\"Daily Summary\"].astype('category').cat.codes\n",
    "data_train[\"Precip Type\"] = data_train[\"Precip Type\"].astype('category').cat.codes\n",
    "# Esta será nuestro valor objetivo a predecir\n",
    "data_train[\"Summary\"] = data_train[\"Summary\"].astype('category').cat.codes\n",
    "#Este timestamp no los nececitamos\n",
    "data_train = data_train.drop(columns=[\"Formatted Date\"])"
   ]
  },
  {
   "cell_type": "markdown",
   "metadata": {},
   "source": [
    "Mediante Python y las librerías que consideres, analiza el dataset proporcionando una caracterización del mismo, mostrando <b>al menos</b> algunas de sus características en  modo  texto  (mediante  tablas  o  prosa)  y  <b>al  menos</b>  algunas  de  ellas  en  modo gráfico (p.ej., histogramas, diagramas de dispersión, diagramas de cajas y bigotes, etc.). <b>Las características y las gráficas incluidas han de provenir de la ejecución del código en Python que se aporte como respuesta.</b>"
   ]
  },
  {
   "cell_type": "code",
   "execution_count": 7,
   "metadata": {},
   "outputs": [
    {
     "data": {
      "text/html": [
       "<div>\n",
       "<style scoped>\n",
       "    .dataframe tbody tr th:only-of-type {\n",
       "        vertical-align: middle;\n",
       "    }\n",
       "\n",
       "    .dataframe tbody tr th {\n",
       "        vertical-align: top;\n",
       "    }\n",
       "\n",
       "    .dataframe thead th {\n",
       "        text-align: right;\n",
       "    }\n",
       "</style>\n",
       "<table border=\"1\" class=\"dataframe\">\n",
       "  <thead>\n",
       "    <tr style=\"text-align: right;\">\n",
       "      <th></th>\n",
       "      <th>Temperature (C)</th>\n",
       "      <th>Apparent Temperature (C)</th>\n",
       "      <th>Humidity</th>\n",
       "      <th>Wind Speed (km/h)</th>\n",
       "      <th>Wind Bearing (degrees)</th>\n",
       "      <th>Visibility (km)</th>\n",
       "      <th>Loud Cover</th>\n",
       "      <th>Pressure (millibars)</th>\n",
       "    </tr>\n",
       "  </thead>\n",
       "  <tbody>\n",
       "    <tr>\n",
       "      <th>count</th>\n",
       "      <td>96453.000000</td>\n",
       "      <td>96453.000000</td>\n",
       "      <td>96453.000000</td>\n",
       "      <td>96453.000000</td>\n",
       "      <td>96453.000000</td>\n",
       "      <td>96453.000000</td>\n",
       "      <td>96453.0</td>\n",
       "      <td>96453.000000</td>\n",
       "    </tr>\n",
       "    <tr>\n",
       "      <th>mean</th>\n",
       "      <td>11.932678</td>\n",
       "      <td>10.855029</td>\n",
       "      <td>0.734899</td>\n",
       "      <td>10.810640</td>\n",
       "      <td>187.509232</td>\n",
       "      <td>10.347325</td>\n",
       "      <td>0.0</td>\n",
       "      <td>1003.235956</td>\n",
       "    </tr>\n",
       "    <tr>\n",
       "      <th>std</th>\n",
       "      <td>9.551546</td>\n",
       "      <td>10.696847</td>\n",
       "      <td>0.195473</td>\n",
       "      <td>6.913571</td>\n",
       "      <td>107.383428</td>\n",
       "      <td>4.192123</td>\n",
       "      <td>0.0</td>\n",
       "      <td>116.969906</td>\n",
       "    </tr>\n",
       "    <tr>\n",
       "      <th>min</th>\n",
       "      <td>-21.822222</td>\n",
       "      <td>-27.716667</td>\n",
       "      <td>0.000000</td>\n",
       "      <td>0.000000</td>\n",
       "      <td>0.000000</td>\n",
       "      <td>0.000000</td>\n",
       "      <td>0.0</td>\n",
       "      <td>0.000000</td>\n",
       "    </tr>\n",
       "    <tr>\n",
       "      <th>25%</th>\n",
       "      <td>4.688889</td>\n",
       "      <td>2.311111</td>\n",
       "      <td>0.600000</td>\n",
       "      <td>5.828200</td>\n",
       "      <td>116.000000</td>\n",
       "      <td>8.339800</td>\n",
       "      <td>0.0</td>\n",
       "      <td>1011.900000</td>\n",
       "    </tr>\n",
       "    <tr>\n",
       "      <th>50%</th>\n",
       "      <td>12.000000</td>\n",
       "      <td>12.000000</td>\n",
       "      <td>0.780000</td>\n",
       "      <td>9.965900</td>\n",
       "      <td>180.000000</td>\n",
       "      <td>10.046400</td>\n",
       "      <td>0.0</td>\n",
       "      <td>1016.450000</td>\n",
       "    </tr>\n",
       "    <tr>\n",
       "      <th>75%</th>\n",
       "      <td>18.838889</td>\n",
       "      <td>18.838889</td>\n",
       "      <td>0.890000</td>\n",
       "      <td>14.135800</td>\n",
       "      <td>290.000000</td>\n",
       "      <td>14.812000</td>\n",
       "      <td>0.0</td>\n",
       "      <td>1021.090000</td>\n",
       "    </tr>\n",
       "    <tr>\n",
       "      <th>max</th>\n",
       "      <td>39.905556</td>\n",
       "      <td>39.344444</td>\n",
       "      <td>1.000000</td>\n",
       "      <td>63.852600</td>\n",
       "      <td>359.000000</td>\n",
       "      <td>16.100000</td>\n",
       "      <td>0.0</td>\n",
       "      <td>1046.380000</td>\n",
       "    </tr>\n",
       "  </tbody>\n",
       "</table>\n",
       "</div>"
      ],
      "text/plain": [
       "       Temperature (C)  Apparent Temperature (C)      Humidity  \\\n",
       "count     96453.000000              96453.000000  96453.000000   \n",
       "mean         11.932678                 10.855029      0.734899   \n",
       "std           9.551546                 10.696847      0.195473   \n",
       "min         -21.822222                -27.716667      0.000000   \n",
       "25%           4.688889                  2.311111      0.600000   \n",
       "50%          12.000000                 12.000000      0.780000   \n",
       "75%          18.838889                 18.838889      0.890000   \n",
       "max          39.905556                 39.344444      1.000000   \n",
       "\n",
       "       Wind Speed (km/h)  Wind Bearing (degrees)  Visibility (km)  Loud Cover  \\\n",
       "count       96453.000000            96453.000000     96453.000000     96453.0   \n",
       "mean           10.810640              187.509232        10.347325         0.0   \n",
       "std             6.913571              107.383428         4.192123         0.0   \n",
       "min             0.000000                0.000000         0.000000         0.0   \n",
       "25%             5.828200              116.000000         8.339800         0.0   \n",
       "50%             9.965900              180.000000        10.046400         0.0   \n",
       "75%            14.135800              290.000000        14.812000         0.0   \n",
       "max            63.852600              359.000000        16.100000         0.0   \n",
       "\n",
       "       Pressure (millibars)  \n",
       "count          96453.000000  \n",
       "mean            1003.235956  \n",
       "std              116.969906  \n",
       "min                0.000000  \n",
       "25%             1011.900000  \n",
       "50%             1016.450000  \n",
       "75%             1021.090000  \n",
       "max             1046.380000  "
      ]
     },
     "execution_count": 7,
     "metadata": {},
     "output_type": "execute_result"
    }
   ],
   "source": [
    "import matplotlib.pyplot as plt\n",
    "import seaborn as sns\n",
    "#Descibir el dataset, estadísticamente\n",
    "data_train.describe()"
   ]
  },
  {
   "cell_type": "code",
   "execution_count": null,
   "metadata": {},
   "outputs": [],
   "source": [
    "#Tipos de datos\n",
    "data_train.dtypes"
   ]
  },
  {
   "cell_type": "code",
   "execution_count": null,
   "metadata": {},
   "outputs": [],
   "source": [
    "#explorar la frecuencia de datos, mediante un histograma\n",
    "data_train.plot.hist(bins=3,figsize=(20,5))"
   ]
  },
  {
   "cell_type": "code",
   "execution_count": null,
   "metadata": {},
   "outputs": [],
   "source": [
    "#Graficos de cajas, para observar valores atípicos\n",
    "data_train.plot.box(figsize=(20,5),grid=True)"
   ]
  },
  {
   "cell_type": "markdown",
   "metadata": {},
   "source": [
    "Dividir muestras de entrenamiento $X$ y salidas $y$. Normalizar el conjunto de datos."
   ]
  },
  {
   "cell_type": "code",
   "execution_count": null,
   "metadata": {},
   "outputs": [],
   "source": [
    "y = data_train['Daily Summary']\n",
    "X= data_train.drop(columns=['Daily Summary'])"
   ]
  },
  {
   "cell_type": "markdown",
   "metadata": {},
   "source": [
    "StandardScaler estandariza una característica restando la media y luego escalando a la varianza unitaria. La varianza unitaria significa dividir todos los valores por la desviación estándar."
   ]
  },
  {
   "cell_type": "code",
   "execution_count": null,
   "metadata": {},
   "outputs": [],
   "source": [
    "from sklearn.preprocessing import StandardScaler\n",
    "\n",
    "scaler = StandardScaler()\n",
    "X_scaler = scaler.fit_transform(X)\n",
    "print(X_scaler)"
   ]
  },
  {
   "cell_type": "code",
   "execution_count": null,
   "metadata": {},
   "outputs": [],
   "source": [
    "sns.pairplot(pd.DataFrame(X_scaler,columns=X.columns))"
   ]
  },
  {
   "cell_type": "markdown",
   "metadata": {},
   "source": [
    "<p><b>Elige  al  menos  un  método  de  regresión  no  basado  en  redes  neuronales</b>  (p.ej. regresión lineal, regresión polinómica, regresión logarítmica, SVR, random forest regression, etc.)</p>\n",
    "\n",
    "<p><b>¿Qué es la Regresión?</b>: Es una medida estadística que ayuda a determinar la relación entre una variable dependiente $\\hat{Y}$, con respecto a una serie variables independientes $X$</p>\n",
    "<p>La <b>regresión Random Forest</b> es un algoritmo de aprendizaje supervisado que utiliza el método de aprendizaje conjunto para la regresión. El método de aprendizaje por conjuntos es una técnica que combina predicciones de múltiples algoritmos de aprendizaje automático para realizar una predicción más precisa que la de un solo modelo.</p>\n",
    "\n",
    "<p><b>Incluye en el informe una explicación de los parámetros que consideres relevantes en cada ejecución.</b></p>\n",
    "\n",
    "<ul>\n",
    "    <li><code>max_depth</code>: La profundidad máxima del árbol. Si es None, los nodos se expanden hasta que todas las hojas sean puras o hasta que todas las hojas contengan menos que min_samples_split samples.</li>\n",
    "    <li><code>min_samples_split</code>:El número mínimo de muestras necesarias para dividir un nodo interno:\n",
    "     <ul>\n",
    "        <li>Si es int, entonces considera min_samples_split como el número mínimo.</li>\n",
    "        <li>Si es float, entonces min_samples_split es una fracción y ceil(min_samples_split * n_samples) son el número mínimo de muestras para cada división.</li>\n",
    "    </ul>\n",
    "    </li>\n",
    "</ul>\n"
   ]
  },
  {
   "cell_type": "code",
   "execution_count": null,
   "metadata": {},
   "outputs": [],
   "source": [
    "from sklearn.ensemble import RandomForestRegressor"
   ]
  },
  {
   "cell_type": "code",
   "execution_count": null,
   "metadata": {},
   "outputs": [],
   "source": [
    "rds = RandomForestRegressor(max_depth=10,min_samples_split=3)"
   ]
  },
  {
   "cell_type": "markdown",
   "metadata": {},
   "source": [
    "Mediante  Python  y  las  librerías  que  consideres,  entrena  el  modelo  o  modelos escogidos,  dividiendo  el  dataset  en  datos  de  entrenamiento  y  datos  de  test  previamente en base a tu criterio y pruébalos frente a dichos datos de test."
   ]
  },
  {
   "cell_type": "code",
   "execution_count": null,
   "metadata": {},
   "outputs": [],
   "source": [
    "# Generar conjuntos de entrenamiento y prueba\n",
    "from sklearn.model_selection import train_test_split \n",
    "\n",
    "X_train, X_validation, Y_train, Y_validation = train_test_split(X_scaler, y, test_size=0.20, random_state=1, shuffle=True)"
   ]
  },
  {
   "cell_type": "code",
   "execution_count": null,
   "metadata": {},
   "outputs": [],
   "source": [
    "#Entrenamiento de RandomForestRegressor\n",
    "rds.fit(X_train,Y_train)"
   ]
  },
  {
   "cell_type": "code",
   "execution_count": null,
   "metadata": {},
   "outputs": [],
   "source": [
    "# Predicción mediante red RandomForestRegressor\n",
    "y_pred_rs = rds.predict(X_validation)"
   ]
  },
  {
   "cell_type": "markdown",
   "metadata": {},
   "source": [
    "<b>Elige  al  menos  una  arquitectura  de  red  neuronal</b>  (<b>describe  en  el  informe</b>  las  neuronas  en  la  capa  de  entrada,  las  capas  intermedias  –  <b>al  menos  dos  capas intermedias</b> – y capa de salida, funciones de activación en cada caso) que permita realizar una <b>regresión</b>.\n",
    "\n",
    "<p>Se utiliza un modelo secuencial con dos capas ocultas densamente $H_{1,2} \\in \\mathbb{R}^{64}$ conectadas y una capa de salida $O \\in \\mathbb{R}$ que devuelve un único valor continuo, para la regresión.</p>"
   ]
  },
  {
   "cell_type": "code",
   "execution_count": null,
   "metadata": {},
   "outputs": [],
   "source": [
    "# TensorFlow y tf.keras\n",
    "import tensorflow as tf\n",
    "from keras import *"
   ]
  },
  {
   "cell_type": "code",
   "execution_count": null,
   "metadata": {},
   "outputs": [],
   "source": [
    "model = tf.keras.Sequential(\n",
    "    [layers.Dense(64, activation='relu', input_shape=[len(X_train[0])]), #capa de entrada\n",
    "     layers.Dense(32, activation='relu'),\n",
    "     layers.Dense(32, activation='relu'),\n",
    "     layers.Dense(1)]) #capa oculta\n",
    "optimizer = tf.keras.optimizers.RMSprop(0.001)\n",
    "model.compile(loss='mse',optimizer=optimizer,metrics=['mae', 'mse'])\n",
    "model.summary()"
   ]
  },
  {
   "cell_type": "markdown",
   "metadata": {},
   "source": [
    "Mediante Python y utilizando <b>al menos Keras sobre TensorFlow 2.0 (tensorflow.keras)</b>,  entrena  el  modelo  o  modelos  de  red  neuronal  escogidos, dividiendo el dataset en datos de entrenamiento y datos de test previamente en base a tu criterio y pruébalos frente a dichos datos de test."
   ]
  },
  {
   "cell_type": "code",
   "execution_count": null,
   "metadata": {},
   "outputs": [],
   "source": [
    "# Entrenamienro de la red neuronal con 10 EPOCHS\n",
    "model.fit(X_train, Y_train, epochs=10,validation_split = 0.2)"
   ]
  },
  {
   "cell_type": "code",
   "execution_count": null,
   "metadata": {},
   "outputs": [],
   "source": [
    "# Predicción mediante red neuronal\n",
    "import numpy as np\n",
    "y_pred_dnn = np.floor(model.predict(X_validation))"
   ]
  },
  {
   "cell_type": "markdown",
   "metadata": {},
   "source": [
    "Mediante Python y las librerías que consideres, muestra los resultados obtenidos  por los diferentes algoritmos escogidos de forma gráfica y comparada/superpuesta.\n",
    "Existen diferentes medidas de variación para poder calcular el error predictivo en $\\hat{Y}$. \n",
    "<ul>\n",
    "    <li>Suma total de los cuadrados (del inglés MAE): mida la variación de la variable dependiente $Y$ (punto actual) y el valor predicho $\\hat{Y}$</li>\n",
    "    <li>Suma de los errores cuadrados (del inglés MSE): variación atribuida a los factores predictivos</li>\n",
    "    <li>$\\mathbf{R}^2$:La interpretación más habitual de la $\\mathbf{R}^2$ es el grado de ajuste del modelo de regresión a los datos observados. Entre más tienda a $1$, mejor será el modelo predictivo.</li>\n",
    "</ul>\n",
    "<p><b>No hay un valor correcto para el MSEy el MAE. Cuanto más bajo sea el valor, mejor, y 0 significa que el modelo es perfecto.</b></p>"
   ]
  },
  {
   "cell_type": "code",
   "execution_count": null,
   "metadata": {},
   "outputs": [],
   "source": [
    "from sklearn import metrics\n",
    "import numpy as np\n",
    "\n",
    "print('Mean Absolute Error (MAE)  - Random Forest Regressor:', metrics.mean_absolute_error(y_pred_rs, Y_validation))\n",
    "print('Mean Squared Error (MSE) - Random Forest Regressor:', metrics.mean_squared_error(y_pred_rs, Y_validation))\n",
    "print('R^2:', metrics.r2_score(y_pred_rs, Y_validation))\n",
    "print('Mean Absolute Error (MAE) -  Red Neurnoal Densa:', metrics.mean_absolute_error(y_pred_dnn, Y_validation))\n",
    "print('Mean Squared Error (MSE) -  Red Neurnoal Densa:', metrics.mean_squared_error(y_pred_dnn, Y_validation))\n",
    "print('R^2:', metrics.r2_score(y_pred_dnn, Y_validation))"
   ]
  },
  {
   "cell_type": "markdown",
   "metadata": {},
   "source": [
    "En las siguientes gráficas se observa el ajuste del modelo, valores deseados vs. verdaderos, a una línea de regresión. Entre más se ajusten a ella, será mejor el modelo."
   ]
  },
  {
   "cell_type": "code",
   "execution_count": null,
   "metadata": {},
   "outputs": [],
   "source": [
    "plt.scatter(Y_validation, y_pred_rs)\n",
    "plt.xlabel('Valores verdaderos ')\n",
    "plt.ylabel('Predicciones')\n",
    "plt.axis('equal')\n",
    "plt.axis('square')\n",
    "plt.title(\"Ajuste del modelo mediante Random Forest Regressor\")\n",
    "plt.xlim([0,plt.xlim()[1]])\n",
    "plt.ylim([0,plt.ylim()[1]])\n",
    "plt.grid()\n",
    "_ = plt.plot([-250, 250], [-250, 250])\n",
    "plt.show()\n",
    "plt.scatter(Y_validation, y_pred_dnn)\n",
    "plt.xlabel('Valores verdaderos ')\n",
    "plt.ylabel('Predicciones')\n",
    "plt.axis('equal')\n",
    "plt.axis('square')\n",
    "plt.title(\"Ajuste del modelo mediante la Red Neuronal Densa\")\n",
    "plt.xlim([0,plt.xlim()[1]])\n",
    "plt.ylim([0,plt.ylim()[1]])\n",
    "plt.grid()\n",
    "_ = plt.plot([-250, 250], [-250, 250])\n",
    "plt.show()"
   ]
  },
  {
   "cell_type": "markdown",
   "metadata": {},
   "source": [
    "En las siguientes gráficas se observa el patrón de error predictivo acumulado, entre más se visualice como una distribución normal (campana de Gauss), mejor será la interoperabilidad del modelo."
   ]
  },
  {
   "cell_type": "code",
   "execution_count": null,
   "metadata": {},
   "outputs": [],
   "source": [
    "error_rs = y_pred_rs - Y_validation\n",
    "plt.hist(error_rs, bins = 25)\n",
    "plt.grid()\n",
    "plt.xlabel(\"Error predictivo - Random Forest Regressor\")\n",
    "_ = plt.ylabel(\"Total\")\n",
    "plt.show()\n",
    "error_dnn = y_pred_dnn.flatten() - Y_validation\n",
    "plt.hist(error_dnn, bins = 25)\n",
    "plt.grid()\n",
    "plt.xlabel(\"Error predictivo - Red Neuronal Densa\")\n",
    "_ = plt.ylabel(\"Total\")"
   ]
  },
  {
   "cell_type": "markdown",
   "metadata": {},
   "source": [
    "<ul>\n",
    "    <li> Incluye  en  el  informe  una  <b>discusión  sobre  los  resultados  obtenidos</b>,  argumenta con qué técnica se obtienen mejores resultados en base a las diferentes métricas que hayas escogido y explica cómo se podrían mejorar los resultados obtenidos por  las  redes  neuronales,  independientemente  de  que  mejoren  o  no  a  los algoritmos no basados en redes neuronales. </li>\n",
    "    <li><b>Recuerda, incluye en el informe a entregar al menos lo siguiente:</b>\n",
    "    <ul>\n",
    "<li>Descripción de la fuente de datos empleada. </li>\n",
    "<li>Caracterización del dataset utilizado en modo texto y gráfico. </li>\n",
    "<li> Parámetros relevantes utilizados en los diferentes algoritmos (en el caso de las redes neuronales, su arquitectura, al menos). </li>\n",
    "<li>Resultados obtenidos por los diferentes algoritmos escogidos de forma gráfica y comparada/superpuesta. </li>\n",
    "<li>Discusión  de  los  resultados  obtenidos  y  argumentos  sobre  cómo  mejorar  de dichos resultados. </li>\n",
    "    </ul>\n",
    " </li>\n",
    "</ul>"
   ]
  },
  {
   "cell_type": "markdown",
   "metadata": {},
   "source": [
    "## APARTADO B (Clasificación)\n",
    "<ul>\n",
    "<li>Seguimos, de forma análoga, con el ejercicio de clasificación. En primer lugar, has de  elegir  un  dataset  de  acceso  público  y  disponible  online.  El  dataset  ha  de  ser apropiado para aplicar diferentes técnicas de clasificación y compararlas entre sí.</li>\n",
    "<li>Puedes elegir un dataset en Kaggle, OpenML o Google Dataset Search. De nuevo, otras fuentes de datos son posibles, siempre que sean de acceso público y estén disponibles  online  sin  necesidad  de  autenticarse,  pues  habrás  de  indicar  dicha fuente y se comprobará su accesibilidad para evaluar la actividad. </li>\n",
    "<li><b>El  dataset  escogido  ha  de  contar,  como  mínimo,  con  1 000  instancias  y  has  de  trabajar  con  todas  ellas.  Es  tu  elección  elegir  la  fracción  que  empleas  para  entrenar los modelos y la fracción que utilizas para el test de los mismos, siempre que utilices en total al menos 1 000 instancias en todos los modelos.</b></li>\n",
    "<ul>\n",
    "    \n",
    "### Dataset: Malware Detection\n",
    "\n",
    "<i>Make your own Malware security system, in association with Meraz'18 malware security partner Max Secure Software.</i>\n",
    "\n",
    "Dataset disponible en:\n",
    "https://www.kaggle.com/budincsevity/szeged-weather\n",
    "    \n",
    "<p>Describe  el  conjunto  de  datos  utilizado  y  explica  el  problema  de  clasificación  a  resolver (no son necesarios contenidos teóricos, sino explicar qué relaciones tratas  de comprobar y con qué métodos). \n",
    "    \n",
    "#### Descripción\n",
    "\n",
    "\n",
    "<p><i>Zero-day : A zero-day vulnerability is a computer-software vulnerability that is unknown to those who would be interested in mitigating the vulnerability. Until the vulnerability is mitigated, hackers can exploit it to adversely affect computer programs, data, additional computers or a network.</i></p>\n",
    "\n",
    "<p><i>Zero-day malware cannot be caught as such using the conventional malware detection system which heavily depend on the manual creation of signature to detect malware files, based of the research done in Max Secure Software laboratories, it was found out that Machine learning techniques could perform well in detecting zero-day vulnerabilities (focused of malware files), if trained properly on suitable models. We bring you the opportunity to work on the data extracted from the statistical analysis conducted of a large set of malware and legitimate files to build ML programs that can perform efficiently in detecting malware files.</i></p>\n",
    "\n",
    "<p><i>There is one catch though, it is necessary for malware detection systems to ensure no legitimate files are predicted as malware, because deleting a legitimate file could lead to serious loss of the users. Final evaluation of the candidates considered for the cash price which will be done manually by a jury, if your model predicts any legitimate files as malicious - strong penalty will be imposed which may lead you to lose the competition even if you rank well on kaggle score boards. Ensure that the false positive predictions are as low as 0.001% .</i></p>\n",
    "\n",
    "<p><i>The test-data for the competition has been updated , please download and use the updated data for submission</i></p>\n",
    "\n",
    "<p><i>The penalty for false negative classifications will be relative. The final ranking on evaluation will look only on the the number of false negatives. More false negative will lead to a lower rank. By false negative here i mean the number of legitimate files considered as malicious</i></p>\n",
    "\n",
    "<p><i>Thank you for being part of the competition, the final evaluation will start on the 24th of October 2018, the complete schedule will be intimated on the 25th of October 2018. Please bear with us.</i></p>\n",
    "\n",
    "<p><i>For further details contact us at anandp@iitbhilai.ac.in</i></p>\n",
    "    \n",
    "<p>Utiliza la librería <b>pandas</b> para la importación del dataset. No es posible adjuntar ningún  archivo  adicional.  El  propio  código  Python  del  archivo  aportado  ha  de ingerir/descargar automáticamente los datos de entrenamiento y test correspondientes y trabajar sobre ellos. <b>Preprocesa los datos si fuera necesario.</b></p>"
   ]
  },
  {
   "cell_type": "code",
   "execution_count": 3,
   "metadata": {},
   "outputs": [],
   "source": [
    "data_malware = pd.read_csv('dataset_malwares.csv')\n",
    "data_malware = data_malware.drop(columns=['Name'])"
   ]
  },
  {
   "cell_type": "code",
   "execution_count": 4,
   "metadata": {},
   "outputs": [
    {
     "data": {
      "text/html": [
       "<div>\n",
       "<style scoped>\n",
       "    .dataframe tbody tr th:only-of-type {\n",
       "        vertical-align: middle;\n",
       "    }\n",
       "\n",
       "    .dataframe tbody tr th {\n",
       "        vertical-align: top;\n",
       "    }\n",
       "\n",
       "    .dataframe thead th {\n",
       "        text-align: right;\n",
       "    }\n",
       "</style>\n",
       "<table border=\"1\" class=\"dataframe\">\n",
       "  <thead>\n",
       "    <tr style=\"text-align: right;\">\n",
       "      <th></th>\n",
       "      <th>e_magic</th>\n",
       "      <th>e_cblp</th>\n",
       "      <th>e_cp</th>\n",
       "      <th>e_crlc</th>\n",
       "      <th>e_cparhdr</th>\n",
       "      <th>e_minalloc</th>\n",
       "      <th>e_maxalloc</th>\n",
       "      <th>e_ss</th>\n",
       "      <th>e_sp</th>\n",
       "      <th>e_csum</th>\n",
       "      <th>...</th>\n",
       "      <th>SectionMaxChar</th>\n",
       "      <th>SectionMainChar</th>\n",
       "      <th>DirectoryEntryImport</th>\n",
       "      <th>DirectoryEntryImportSize</th>\n",
       "      <th>DirectoryEntryExport</th>\n",
       "      <th>ImageDirectoryEntryExport</th>\n",
       "      <th>ImageDirectoryEntryImport</th>\n",
       "      <th>ImageDirectoryEntryResource</th>\n",
       "      <th>ImageDirectoryEntryException</th>\n",
       "      <th>ImageDirectoryEntrySecurity</th>\n",
       "    </tr>\n",
       "  </thead>\n",
       "  <tbody>\n",
       "    <tr>\n",
       "      <th>0</th>\n",
       "      <td>23117</td>\n",
       "      <td>144</td>\n",
       "      <td>3</td>\n",
       "      <td>0</td>\n",
       "      <td>4</td>\n",
       "      <td>0</td>\n",
       "      <td>65535</td>\n",
       "      <td>0</td>\n",
       "      <td>184</td>\n",
       "      <td>0</td>\n",
       "      <td>...</td>\n",
       "      <td>3758096608</td>\n",
       "      <td>0</td>\n",
       "      <td>7</td>\n",
       "      <td>152</td>\n",
       "      <td>0</td>\n",
       "      <td>0</td>\n",
       "      <td>54440</td>\n",
       "      <td>77824</td>\n",
       "      <td>73728</td>\n",
       "      <td>0</td>\n",
       "    </tr>\n",
       "    <tr>\n",
       "      <th>1</th>\n",
       "      <td>23117</td>\n",
       "      <td>144</td>\n",
       "      <td>3</td>\n",
       "      <td>0</td>\n",
       "      <td>4</td>\n",
       "      <td>0</td>\n",
       "      <td>65535</td>\n",
       "      <td>0</td>\n",
       "      <td>184</td>\n",
       "      <td>0</td>\n",
       "      <td>...</td>\n",
       "      <td>3791650880</td>\n",
       "      <td>0</td>\n",
       "      <td>16</td>\n",
       "      <td>311</td>\n",
       "      <td>0</td>\n",
       "      <td>0</td>\n",
       "      <td>262276</td>\n",
       "      <td>294912</td>\n",
       "      <td>0</td>\n",
       "      <td>346112</td>\n",
       "    </tr>\n",
       "    <tr>\n",
       "      <th>2</th>\n",
       "      <td>23117</td>\n",
       "      <td>144</td>\n",
       "      <td>3</td>\n",
       "      <td>0</td>\n",
       "      <td>4</td>\n",
       "      <td>0</td>\n",
       "      <td>65535</td>\n",
       "      <td>0</td>\n",
       "      <td>184</td>\n",
       "      <td>0</td>\n",
       "      <td>...</td>\n",
       "      <td>3221225536</td>\n",
       "      <td>0</td>\n",
       "      <td>6</td>\n",
       "      <td>176</td>\n",
       "      <td>0</td>\n",
       "      <td>0</td>\n",
       "      <td>36864</td>\n",
       "      <td>40960</td>\n",
       "      <td>0</td>\n",
       "      <td>0</td>\n",
       "    </tr>\n",
       "    <tr>\n",
       "      <th>3</th>\n",
       "      <td>23117</td>\n",
       "      <td>144</td>\n",
       "      <td>3</td>\n",
       "      <td>0</td>\n",
       "      <td>4</td>\n",
       "      <td>0</td>\n",
       "      <td>65535</td>\n",
       "      <td>0</td>\n",
       "      <td>184</td>\n",
       "      <td>0</td>\n",
       "      <td>...</td>\n",
       "      <td>3224371328</td>\n",
       "      <td>0</td>\n",
       "      <td>8</td>\n",
       "      <td>155</td>\n",
       "      <td>0</td>\n",
       "      <td>0</td>\n",
       "      <td>356352</td>\n",
       "      <td>1003520</td>\n",
       "      <td>0</td>\n",
       "      <td>14109472</td>\n",
       "    </tr>\n",
       "    <tr>\n",
       "      <th>4</th>\n",
       "      <td>23117</td>\n",
       "      <td>144</td>\n",
       "      <td>3</td>\n",
       "      <td>0</td>\n",
       "      <td>4</td>\n",
       "      <td>0</td>\n",
       "      <td>65535</td>\n",
       "      <td>0</td>\n",
       "      <td>184</td>\n",
       "      <td>0</td>\n",
       "      <td>...</td>\n",
       "      <td>3227516992</td>\n",
       "      <td>0</td>\n",
       "      <td>2</td>\n",
       "      <td>43</td>\n",
       "      <td>0</td>\n",
       "      <td>0</td>\n",
       "      <td>61440</td>\n",
       "      <td>73728</td>\n",
       "      <td>0</td>\n",
       "      <td>90624</td>\n",
       "    </tr>\n",
       "  </tbody>\n",
       "</table>\n",
       "<p>5 rows × 78 columns</p>\n",
       "</div>"
      ],
      "text/plain": [
       "   e_magic  e_cblp  e_cp  e_crlc  e_cparhdr  e_minalloc  e_maxalloc  e_ss  \\\n",
       "0    23117     144     3       0          4           0       65535     0   \n",
       "1    23117     144     3       0          4           0       65535     0   \n",
       "2    23117     144     3       0          4           0       65535     0   \n",
       "3    23117     144     3       0          4           0       65535     0   \n",
       "4    23117     144     3       0          4           0       65535     0   \n",
       "\n",
       "   e_sp  e_csum  ...  SectionMaxChar  SectionMainChar  DirectoryEntryImport  \\\n",
       "0   184       0  ...      3758096608                0                     7   \n",
       "1   184       0  ...      3791650880                0                    16   \n",
       "2   184       0  ...      3221225536                0                     6   \n",
       "3   184       0  ...      3224371328                0                     8   \n",
       "4   184       0  ...      3227516992                0                     2   \n",
       "\n",
       "   DirectoryEntryImportSize  DirectoryEntryExport  ImageDirectoryEntryExport  \\\n",
       "0                       152                     0                          0   \n",
       "1                       311                     0                          0   \n",
       "2                       176                     0                          0   \n",
       "3                       155                     0                          0   \n",
       "4                        43                     0                          0   \n",
       "\n",
       "   ImageDirectoryEntryImport  ImageDirectoryEntryResource  \\\n",
       "0                      54440                        77824   \n",
       "1                     262276                       294912   \n",
       "2                      36864                        40960   \n",
       "3                     356352                      1003520   \n",
       "4                      61440                        73728   \n",
       "\n",
       "   ImageDirectoryEntryException  ImageDirectoryEntrySecurity  \n",
       "0                         73728                            0  \n",
       "1                             0                       346112  \n",
       "2                             0                            0  \n",
       "3                             0                     14109472  \n",
       "4                             0                        90624  \n",
       "\n",
       "[5 rows x 78 columns]"
      ]
     },
     "execution_count": 4,
     "metadata": {},
     "output_type": "execute_result"
    }
   ],
   "source": [
    "data_malware.head()"
   ]
  },
  {
   "cell_type": "code",
   "execution_count": 5,
   "metadata": {},
   "outputs": [
    {
     "data": {
      "text/plain": [
       "(19611, 78)"
      ]
     },
     "execution_count": 5,
     "metadata": {},
     "output_type": "execute_result"
    }
   ],
   "source": [
    "data_malware.shape"
   ]
  },
  {
   "cell_type": "markdown",
   "metadata": {},
   "source": [
    "Mediante Python y las librerías que consideres, analiza el dataset proporcionando una caracterización del mismo, mostrando <b>al menos</b> algunas de sus características en  modo  texto  (mediante  tablas  o  prosa)  y  <b>al  menos</b>  algunas  de  ellas  en  modo gráfico (p.ej., histogramas, diagramas de dispersión, diagramas de cajas y bigotes, etc.). <b>Las características y las gráficas incluidas han de provenir de la ejecución del código en Python que se aporte como respuesta. </b>\n",
    "<p>Distribución conjunta de un par de característcias de el set de entrenamiento.</p> <p>Se seleccionan tres características SectionMaxChar,ImageDirectoryEntryImport y DirectoryEntryImportSize y se grafican por clase.</p>"
   ]
  },
  {
   "cell_type": "code",
   "execution_count": 8,
   "metadata": {},
   "outputs": [
    {
     "data": {
      "text/plain": [
       "<seaborn.axisgrid.PairGrid at 0x1cdc6f57580>"
      ]
     },
     "execution_count": 8,
     "metadata": {},
     "output_type": "execute_result"
    },
    {
     "data": {
      "image/png": "[encoded data removed]",
      "text/plain": [
       "<Figure size 589.875x540 with 12 Axes>"
      ]
     },
     "metadata": {
      "needs_background": "light"
     },
     "output_type": "display_data"
    }
   ],
   "source": [
    "sns.pairplot(data_malware[['SectionMaxChar','ImageDirectoryEntryImport','DirectoryEntryImportSize','Malware']],hue='Malware')"
   ]
  },
  {
   "cell_type": "markdown",
   "metadata": {},
   "source": [
    "<p><b>Elige al menos un método de clasificación no basado en redes neuronales</b> (p.ej. regresión  logística,  árboles  de  decisión,  reglas  de  clasificación,  random  forest, SVM, etc.).</p>"
   ]
  },
  {
   "cell_type": "code",
   "execution_count": 9,
   "metadata": {},
   "outputs": [],
   "source": [
    "#Máquina de soporte vectorial\n",
    "from sklearn.svm import SVC"
   ]
  },
  {
   "cell_type": "markdown",
   "metadata": {},
   "source": [
    "Incluye en el informe una explicación de los parámetros que consideres relevantes en cada ejecución.\n",
    "\n",
    "<ul>\n",
    "<li>C: Parámetro de regularización. La fuerza de la regularización es inversamente proporcional a C. Compensa el efecto del sesos, varianza.</li>\n",
    "\n",
    "<li>kernel ${'linear', 'poly', 'rbf', 'sigmoid', 'precomputed'}$. Especifica el tipo de núcleo que se utilizará en el algoritmo, es decir, como se proyectan las muestras si no se pueden resolver en un problema lineal.</li>\n",
    " </ul>"
   ]
  },
  {
   "cell_type": "code",
   "execution_count": 10,
   "metadata": {},
   "outputs": [],
   "source": [
    "svm = SVC(C=10,kernel='rbf')"
   ]
  },
  {
   "cell_type": "markdown",
   "metadata": {},
   "source": [
    "Mediante  Python  y  las  librerías  que  consideres,  entrena  el  modelo  o  modelos escogidos,  dividiendo  el  dataset  en  datos  de  entrenamiento  y  datos  de  test previamente en base a tu criterio y pruébalos frente a dichos datos de test."
   ]
  },
  {
   "cell_type": "code",
   "execution_count": 11,
   "metadata": {},
   "outputs": [],
   "source": [
    "#Etiquetas y muestras\n",
    "y = data_malware['Malware']\n",
    "X = data_malware.drop(columns = ['Malware'])"
   ]
  },
  {
   "cell_type": "code",
   "execution_count": 13,
   "metadata": {},
   "outputs": [
    {
     "name": "stdout",
     "output_type": "stream",
     "text": [
      "[[ 0.         -0.03506542 -0.04751096 ... -0.07054894 -0.0198525\n",
      "  -0.04066791]\n",
      " [ 0.         -0.03506542 -0.04751096 ... -0.03849221 -0.02110877\n",
      "  -0.02469983]\n",
      " [ 0.         -0.03506542 -0.04751096 ... -0.07599254 -0.02110877\n",
      "  -0.04066791]\n",
      " ...\n",
      " [ 0.         -0.18093613 -0.04958686 ... -0.07296832 -0.02110877\n",
      "  -0.04066791]\n",
      " [ 0.         -0.03506542 -0.04751096 ... -0.06691988 -0.02110877\n",
      "  -0.04066791]\n",
      " [ 0.         -0.03506542 -0.04751096 ...  0.00021781 -0.02110877\n",
      "  -0.04066791]]\n"
     ]
    }
   ],
   "source": [
    "#Pre-procesamiento\n",
    "from sklearn.preprocessing import StandardScaler\n",
    "scaler = StandardScaler()\n",
    "X_scaler = scaler.fit_transform(X)\n",
    "print(X_scaler)"
   ]
  },
  {
   "cell_type": "code",
   "execution_count": 15,
   "metadata": {},
   "outputs": [],
   "source": [
    "from sklearn.model_selection import train_test_split \n",
    "X_train, X_validation, Y_train, Y_validation = train_test_split(X_scaler, y, test_size=0.20, random_state=1, shuffle=True)"
   ]
  },
  {
   "cell_type": "code",
   "execution_count": 16,
   "metadata": {},
   "outputs": [
    {
     "data": {
      "text/plain": [
       "SVC(C=10)"
      ]
     },
     "execution_count": 16,
     "metadata": {},
     "output_type": "execute_result"
    }
   ],
   "source": [
    "# Entrenamiento\n",
    "svm.fit(X_train,Y_train)"
   ]
  },
  {
   "cell_type": "code",
   "execution_count": 17,
   "metadata": {},
   "outputs": [],
   "source": [
    "#Predicción \n",
    "y_pred_svm = svm.predict(X_validation)"
   ]
  },
  {
   "cell_type": "markdown",
   "metadata": {},
   "source": [
    "<p><b>Elige  al  menos  una  arquitectura  de  red  neuronal</b>  (<b>describe  en  el  informe</b>  las neuronas  en  la  capa  de  entrada,  las  capas  intermedias $H_1 \\in \\mathbb{R}^{32}$ y  $H_2 \\in \\mathbb{R}^{24}$ <b>al  menos  dos  capas intermedias</b> y capa de salida $O \\in \\mathbb{R}$, funciones de activación en cada caso, <b>al menos utiliza relu en algunas de las capas intermedias y utiliza softmax en la capa de salida</b>) que permita realizar una clasificación."
   ]
  },
  {
   "cell_type": "code",
   "execution_count": 20,
   "metadata": {},
   "outputs": [
    {
     "name": "stdout",
     "output_type": "stream",
     "text": [
      "Model: \"sequential\"\n",
      "_________________________________________________________________\n",
      " Layer (type)                Output Shape              Param #   \n",
      "=================================================================\n",
      " dense (Dense)               (None, 64)                4992      \n",
      "                                                                 \n",
      " dense_1 (Dense)             (None, 32)                2080      \n",
      "                                                                 \n",
      " dense_2 (Dense)             (None, 1)                 33        \n",
      "                                                                 \n",
      "=================================================================\n",
      "Total params: 7,105\n",
      "Trainable params: 7,105\n",
      "Non-trainable params: 0\n",
      "_________________________________________________________________\n"
     ]
    }
   ],
   "source": [
    "import tensorflow as tf\n",
    "from keras import *\n",
    "model = tf.keras.Sequential([\n",
    "    layers.Dense(64, activation='relu', input_shape=[len(X_train[0])]), #entrada\n",
    "    layers.Dense(32, activation='relu'), #intermedia\n",
    "    layers.Dense(1,activation='tanh')]) #salida tangente hiperbólica, de la familia sigmoide\n",
    "model.compile(loss='binary_crossentropy',optimizer='ADAM',metrics=['accuracy'])\n",
    "model.summary()"
   ]
  },
  {
   "cell_type": "markdown",
   "metadata": {},
   "source": [
    "Mediante Python y utilizando <b>al menos Keras sobre TensorFlow 2.0 (tensorflow.keras)</b>,  entrena  el  modelo  o  modelos  de  red  neuronal  escogidos, dividiendo el dataset en datos de entrenamiento y datos de test previamente en base a tu criterio y pruébalos frente a dichos datos de test."
   ]
  },
  {
   "cell_type": "code",
   "execution_count": 21,
   "metadata": {},
   "outputs": [
    {
     "name": "stdout",
     "output_type": "stream",
     "text": [
      "Epoch 1/10\n",
      "491/491 [==============================] - 1s 2ms/step - loss: 0.3528 - accuracy: 0.9134\n",
      "Epoch 2/10\n",
      "491/491 [==============================] - 1s 1ms/step - loss: 0.1488 - accuracy: 0.9685\n",
      "Epoch 3/10\n",
      "491/491 [==============================] - 1s 2ms/step - loss: 0.1444 - accuracy: 0.9705\n",
      "Epoch 4/10\n",
      "491/491 [==============================] - 1s 2ms/step - loss: 0.1413 - accuracy: 0.9696\n",
      "Epoch 5/10\n",
      "491/491 [==============================] - 1s 1ms/step - loss: 0.1460 - accuracy: 0.9705\n",
      "Epoch 6/10\n",
      "491/491 [==============================] - 1s 2ms/step - loss: 0.1277 - accuracy: 0.9751\n",
      "Epoch 7/10\n",
      "491/491 [==============================] - 1s 1ms/step - loss: 0.1277 - accuracy: 0.9759\n",
      "Epoch 8/10\n",
      "491/491 [==============================] - 1s 2ms/step - loss: 0.1212 - accuracy: 0.9774\n",
      "Epoch 9/10\n",
      "491/491 [==============================] - 1s 2ms/step - loss: 0.1206 - accuracy: 0.9775\n",
      "Epoch 10/10\n",
      "491/491 [==============================] - 1s 2ms/step - loss: 0.1163 - accuracy: 0.9770\n"
     ]
    },
    {
     "data": {
      "text/plain": [
       "<keras.callbacks.History at 0x1cdd7794b50>"
      ]
     },
     "execution_count": 21,
     "metadata": {},
     "output_type": "execute_result"
    }
   ],
   "source": [
    "#entrenamiento\n",
    "model.fit(X_train,Y_train,epochs=10)"
   ]
  },
  {
   "cell_type": "code",
   "execution_count": 23,
   "metadata": {},
   "outputs": [],
   "source": [
    "#Predicción\\\n",
    "import numpy as np\n",
    "y_pred_dnn = np.ceil(model.predict(X_validation).flatten())\n",
    "#Transformar a entero las predicciones\n",
    "y_pred_dnn_int = [abs(y) for y in y_pred_dnn]"
   ]
  },
  {
   "cell_type": "markdown",
   "metadata": {},
   "source": [
    "Mediante Python y las librerías que consideres, muestra los resultados obtenidos por los diferentes algoritmos escogidos de forma gráfica y comparada/superpuesta"
   ]
  },
  {
   "cell_type": "code",
   "execution_count": 24,
   "metadata": {},
   "outputs": [],
   "source": [
    "from sklearn.metrics import plot_confusion_matrix\n",
    "from sklearn.metrics import classification_report "
   ]
  },
  {
   "cell_type": "code",
   "execution_count": 25,
   "metadata": {},
   "outputs": [
    {
     "name": "stdout",
     "output_type": "stream",
     "text": [
      "              precision    recall  f1-score   support\n",
      "\n",
      "           0       0.95      0.98      0.96       951\n",
      "           1       0.99      0.98      0.99      2972\n",
      "\n",
      "    accuracy                           0.98      3923\n",
      "   macro avg       0.97      0.98      0.97      3923\n",
      "weighted avg       0.98      0.98      0.98      3923\n",
      "\n"
     ]
    }
   ],
   "source": [
    "#Reporte de clasificación svm\n",
    "print(classification_report(y_pred_svm,Y_validation))"
   ]
  },
  {
   "cell_type": "code",
   "execution_count": 26,
   "metadata": {},
   "outputs": [
    {
     "name": "stdout",
     "output_type": "stream",
     "text": [
      "              precision    recall  f1-score   support\n",
      "\n",
      "         0.0       0.88      0.98      0.93       885\n",
      "         1.0       0.99      0.96      0.98      3038\n",
      "\n",
      "    accuracy                           0.97      3923\n",
      "   macro avg       0.94      0.97      0.95      3923\n",
      "weighted avg       0.97      0.97      0.97      3923\n",
      "\n"
     ]
    }
   ],
   "source": [
    "#Reporte de clasificación Red Neuronal Densa\n",
    "print(classification_report(y_pred_dnn_int,Y_validation))"
   ]
  },
  {
   "cell_type": "code",
   "execution_count": 27,
   "metadata": {},
   "outputs": [
    {
     "data": {
      "image/png": "[encoded data removed]",
      "text/plain": [
       "<Figure size 432x288 with 2 Axes>"
      ]
     },
     "metadata": {
      "needs_background": "light"
     },
     "output_type": "display_data"
    }
   ],
   "source": [
    "df_svm = pd.DataFrame([y_pred_svm,Y_validation.values]).T\n",
    "df_svm.columns=['y_Actual','y_Predicha']\n",
    "confusion_matrix = pd.crosstab(df_svm['y_Actual'], df_svm['y_Predicha'], rownames=['Actual'], colnames=['Predicha'])\n",
    "sns.heatmap(confusion_matrix, annot=True)\n",
    "plt.show()"
   ]
  },
  {
   "cell_type": "code",
   "execution_count": 28,
   "metadata": {},
   "outputs": [
    {
     "data": {
      "image/png": "[encoded data removed]",
      "text/plain": [
       "<Figure size 432x288 with 2 Axes>"
      ]
     },
     "metadata": {
      "needs_background": "light"
     },
     "output_type": "display_data"
    }
   ],
   "source": [
    "df_dnn = pd.DataFrame([y_pred_dnn_int,Y_validation.values]).T\n",
    "df_dnn.columns=['y_Actual','y_Predicha']\n",
    "confusion_matrix = pd.crosstab(df_dnn['y_Actual'], df_dnn['y_Predicha'], rownames=['Actual'], colnames=['Predicha'])\n",
    "sns.heatmap(confusion_matrix, annot=True)\n",
    "plt.show()"
   ]
  },
  {
   "cell_type": "markdown",
   "metadata": {},
   "source": [
    "Incluye  en  el  informe  una  discusión  sobre  los  resultados  obtenidos,  argumenta con qué técnica se obtienen mejores resultados en base a las diferentes métricas  que hayas escogido y explica cómo se podrían mejorar los resultados obtenidos por  las  redes  neuronales,  independientemente  de  que  mejoren  o  no  a  los algoritmos no basados en redes neuronales.\n",
    "<ul>\n",
    "<li> Recuerda, incluye en el informe a entregar al menos lo siguiente:\n",
    "    <ul>\n",
    " <li>Descripción de la fuente de datos empleada. </li>\n",
    " <li> Caracterización del dataset utilizado en modo texto y gráfico.</li>\n",
    " <li> Resultados obtenidos por los diferentes algoritmos escogidos de forma gráfica y comparada/superpuesta.</li>\n",
    " <li> Discusión  de  los  resultados  obtenidos  y  argumentos  sobre  cómo  mejorar  de  dichos resultados.</li>\n",
    "        </ul>\n",
    "</ul>"
   ]
  },
  {
   "cell_type": "code",
   "execution_count": null,
   "metadata": {},
   "outputs": [],
   "source": [
    "import pandas as pd\n",
    "\n",
    "url=\"https://www.openml.org/data/get_csv/50/dataset_50_tic-tac-toe.arff\"\n",
    "data_lab=pd.read_csv(url)\n",
    "data_lab.shape\n"
   ]
  },
  {
   "cell_type": "code",
   "execution_count": null,
   "metadata": {},
   "outputs": [],
   "source": [
    "data_lab.head()"
   ]
  },
  {
   "cell_type": "code",
   "execution_count": null,
   "metadata": {},
   "outputs": [],
   "source": [
    "\"\"\"data_lab[\"\\\"checking_status\\\"\"] = data_lab[\"\\\"checking_status\\\"\"].astype('category').cat.codes\n",
    "data_lab[\"\\\"credit_history\\\"\"] = data_lab[\"\\\"credit_history\\\"\"].astype('category').cat.codes\n",
    "data_lab[\"\\\"purpose\\\"\"] = data_lab[\"\\\"purpose\\\"\"].astype('category').cat.codes\n",
    "data_lab[\"\\\"savings_status\\\"\"] = data_lab[\"\\\"savings_status\\\"\"].astype('category').cat.codes\n",
    "data_lab[\"\\\"employment\\\"\"] = data_lab[\"\\\"employment\\\"\"].astype('category').cat.codes\n",
    "data_lab[\"\\\"personal_status\\\"\"] = data_lab[\"\\\"personal_status\\\"\"].astype('category').cat.codes\n",
    "data_lab[\"\\\"other_parties\\\"\"] = data_lab[\"\\\"other_parties\\\"\"].astype('category').cat.codes\n",
    "data_lab[\"\\\"property_magnitude\\\"\"] = data_lab[\"\\\"property_magnitude\\\"\"].astype('category').cat.codes\n",
    "data_lab[\"\\\"other_payment_plans\\\"\"] = data_lab[\"\\\"other_payment_plans\\\"\"].astype('category').cat.codes\n",
    "data_lab[\"\\\"housing\\\"\"] = data_lab[\"\\\"housing\\\"\"].astype('category').cat.codes\n",
    "data_lab[\"\\\"job\\\"\"] = data_lab[\"\\\"job\\\"\"].astype('category').cat.codes\n",
    "data_lab[\"\\\"own_telephone\\\"\"] = data_lab[\"\\\"own_telephone\\\"\"].astype('category').cat.codes\n",
    "data_lab[\"\\\"foreign_worker\\\"\"] = data_lab[\"\\\"foreign_worker\\\"\"].astype('category').cat.codes\n",
    "data_lab[\"\\\"class\\\"\"] = data_lab[\"\\\"class\\\"\"].astype('category').cat.codes\"\"\"\n",
    "\n",
    "data_lab[\"top-left-square\"] = data_lab[\"top-left-square\"].astype('category').cat.codes\n",
    "data_lab[\"top-middle-square\"] = data_lab[\"top-middle-square\"].astype('category').cat.codes\n",
    "data_lab[\"top-right-square\"] = data_lab[\"top-right-square\"].astype('category').cat.codes\n",
    "data_lab[\"middle-left-square\"] = data_lab[\"middle-left-square\"].astype('category').cat.codes\n",
    "data_lab[\"middle-middle-square\"] = data_lab[\"middle-middle-square\"].astype('category').cat.codes\n",
    "data_lab[\"middle-right-square\"] = data_lab[\"middle-right-square\"].astype('category').cat.codes\n",
    "data_lab[\"bottom-left-square\"] = data_lab[\"bottom-left-square\"].astype('category').cat.codes\n",
    "data_lab[\"bottom-middle-square\"] = data_lab[\"bottom-middle-square\"].astype('category').cat.codes\n",
    "data_lab[\"bottom-right-square\"] = data_lab[\"bottom-right-square\"].astype('category').cat.codes\n",
    "data_lab[\"Class\"] = data_lab[\"Class\"].astype('category').cat.codes\n",
    "\n"
   ]
  },
  {
   "cell_type": "code",
   "execution_count": null,
   "metadata": {},
   "outputs": [],
   "source": [
    "import matplotlib.pyplot as plt\n",
    "import seaborn as sns\n",
    "#Descibir el dataset, estadísticamente\n",
    "data_lab.describe()"
   ]
  },
  {
   "cell_type": "code",
   "execution_count": null,
   "metadata": {},
   "outputs": [],
   "source": [
    "data_lab.dtypes"
   ]
  },
  {
   "cell_type": "code",
   "execution_count": null,
   "metadata": {},
   "outputs": [],
   "source": [
    "data_lab.plot.hist(bins=3,figsize=(20,5))"
   ]
  },
  {
   "cell_type": "code",
   "execution_count": null,
   "metadata": {},
   "outputs": [],
   "source": [
    "data_lab.plot.box(figsize=(20,5),grid=True)"
   ]
  },
  {
   "cell_type": "code",
   "execution_count": null,
   "metadata": {},
   "outputs": [],
   "source": [
    "y = data_lab['Class']\n",
    "X = data_lab.drop(columns=['Class'])"
   ]
  },
  {
   "cell_type": "code",
   "execution_count": null,
   "metadata": {},
   "outputs": [],
   "source": [
    "from sklearn.preprocessing import StandardScaler\n",
    "\n",
    "scaler = StandardScaler()\n",
    "X_scaler = scaler.fit_transform(X)\n",
    "print(X_scaler)"
   ]
  },
  {
   "cell_type": "code",
   "execution_count": null,
   "metadata": {},
   "outputs": [],
   "source": [
    "sns.pairplot(pd.DataFrame(X_scaler,columns=X.columns))"
   ]
  },
  {
   "cell_type": "code",
   "execution_count": null,
   "metadata": {},
   "outputs": [],
   "source": [
    "from sklearn.ensemble import RandomForestRegressor\n",
    "from sklearn.model_selection import train_test_split \n",
    "\n",
    "rndfrstreg = RandomForestRegressor(max_depth=25,min_samples_split=5)\n",
    "X_train, X_validation, Y_train, Y_validation = train_test_split(X_scaler, y, test_size=0.20, random_state=1, shuffle=True)\n",
    "rndfrstreg.fit(X_train,Y_train)\n",
    "y_pred_rndfrstreg = rndfrstreg.predict(X_validation)"
   ]
  },
  {
   "cell_type": "code",
   "execution_count": null,
   "metadata": {},
   "outputs": [],
   "source": [
    "import tensorflow as tf\n",
    "from keras import *\n",
    "\n",
    "model = tf.keras.Sequential([layers.Dense(64, activation='relu', input_shape=[len(X_train[0])]), \n",
    "                             layers.Dense(1)])\n",
    "optimizer = tf.keras.optimizers.RMSprop(0.001)\n",
    "model.compile(loss='mse',optimizer=optimizer,metrics=['mae', 'mse'])\n",
    "model.summary()"
   ]
  },
  {
   "cell_type": "code",
   "execution_count": null,
   "metadata": {},
   "outputs": [],
   "source": [
    "model.fit(X_train, Y_train, epochs=10,validation_split = 0.2)"
   ]
  },
  {
   "cell_type": "code",
   "execution_count": null,
   "metadata": {},
   "outputs": [],
   "source": [
    "import numpy as np\n",
    "y_pred_dnn = np.floor(model.predict(X_validation))"
   ]
  },
  {
   "cell_type": "code",
   "execution_count": null,
   "metadata": {},
   "outputs": [],
   "source": [
    "from sklearn import metrics\n",
    "import numpy as np\n",
    "\n",
    "print('Mean Absolute Error (MAE)  - Random Forest Regressor:', metrics.mean_absolute_error(y_pred_rndfrstreg, Y_validation))\n",
    "print('Mean Squared Error (MSE) - Random Forest Regressor:', metrics.mean_squared_error(y_pred_rndfrstreg, Y_validation))\n",
    "print('R^2:', metrics.r2_score(y_pred_rndfrstreg, Y_validation))\n",
    "print('Mean Absolute Error (MAE) -  Red Neurnoal Densa:', metrics.mean_absolute_error(y_pred_dnn, Y_validation))\n",
    "print('Mean Squared Error (MSE) -  Red Neurnoal Densa:', metrics.mean_squared_error(y_pred_dnn, Y_validation))\n",
    "print('R^2:', metrics.r2_score(y_pred_dnn, Y_validation))"
   ]
  },
  {
   "cell_type": "code",
   "execution_count": null,
   "metadata": {},
   "outputs": [],
   "source": [
    "plt.scatter(Y_validation, y_pred_rndfrstreg)\n",
    "plt.xlabel('Valores verdaderos ')\n",
    "plt.ylabel('Predicciones')\n",
    "plt.axis('equal')\n",
    "plt.axis('square')\n",
    "plt.title(\"Ajuste del modelo mediante Random Forest Regressor\")\n",
    "plt.xlim([0,plt.xlim()[1]])\n",
    "plt.ylim([0,plt.ylim()[1]])\n",
    "plt.grid()\n",
    "_ = plt.plot([-250, 250], [-250, 250])\n",
    "plt.show()\n",
    "plt.scatter(Y_validation, y_pred_dnn)\n",
    "plt.xlabel('Valores verdaderos ')\n",
    "plt.ylabel('Predicciones')\n",
    "plt.axis('equal')\n",
    "plt.axis('square')\n",
    "plt.title(\"Ajuste del modelo mediante la Red Neuronal Densa\")\n",
    "plt.xlim([0,plt.xlim()[1]])\n",
    "plt.ylim([0,plt.ylim()[1]])\n",
    "plt.grid()\n",
    "_ = plt.plot([-250, 250], [-250, 250])\n",
    "plt.show()"
   ]
  }
 ],
 "metadata": {
  "kernelspec": {
   "display_name": "Python 3",
   "language": "python",
   "name": "python3"
  },
  "language_info": {
   "codemirror_mode": {
    "name": "ipython",
    "version": 3
   },
   "file_extension": ".py",
   "mimetype": "text/x-python",
   "name": "python",
   "nbconvert_exporter": "python",
   "pygments_lexer": "ipython3",
   "version": "3.9.7"
  }
 },
 "nbformat": 4,
 "nbformat_minor": 4
}
