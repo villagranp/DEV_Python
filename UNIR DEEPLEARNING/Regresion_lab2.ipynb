{
 "cells": [
  {
   "cell_type": "code",
   "execution_count": 1,
   "metadata": {},
   "outputs": [
    {
     "data": {
      "text/plain": [
       "(96453, 12)"
      ]
     },
     "execution_count": 1,
     "metadata": {},
     "output_type": "execute_result"
    }
   ],
   "source": [
    "import pandas as pd\n",
    "import matplotlib.pyplot as plt\n",
    "import seaborn as sns\n",
    "\n",
    "path = ('weatherHistory.csv')\n",
    "data_lab=pd.read_csv(path)\n",
    "data_lab.shape\n"
   ]
  },
  {
   "cell_type": "code",
   "execution_count": 2,
   "metadata": {},
   "outputs": [
    {
     "data": {
      "text/html": [
       "<div>\n",
       "<style scoped>\n",
       "    .dataframe tbody tr th:only-of-type {\n",
       "        vertical-align: middle;\n",
       "    }\n",
       "\n",
       "    .dataframe tbody tr th {\n",
       "        vertical-align: top;\n",
       "    }\n",
       "\n",
       "    .dataframe thead th {\n",
       "        text-align: right;\n",
       "    }\n",
       "</style>\n",
       "<table border=\"1\" class=\"dataframe\">\n",
       "  <thead>\n",
       "    <tr style=\"text-align: right;\">\n",
       "      <th></th>\n",
       "      <th>Formatted Date</th>\n",
       "      <th>Summary</th>\n",
       "      <th>Precip Type</th>\n",
       "      <th>Temperature (C)</th>\n",
       "      <th>Apparent Temperature (C)</th>\n",
       "      <th>Humidity</th>\n",
       "      <th>Wind Speed (km/h)</th>\n",
       "      <th>Wind Bearing (degrees)</th>\n",
       "      <th>Visibility (km)</th>\n",
       "      <th>Loud Cover</th>\n",
       "      <th>Pressure (millibars)</th>\n",
       "      <th>Daily Summary</th>\n",
       "    </tr>\n",
       "  </thead>\n",
       "  <tbody>\n",
       "    <tr>\n",
       "      <th>0</th>\n",
       "      <td>2006-04-01 00:00:00.000 +0200</td>\n",
       "      <td>Partly Cloudy</td>\n",
       "      <td>rain</td>\n",
       "      <td>9.472222</td>\n",
       "      <td>7.388889</td>\n",
       "      <td>0.89</td>\n",
       "      <td>14.1197</td>\n",
       "      <td>251.0</td>\n",
       "      <td>15.8263</td>\n",
       "      <td>0.0</td>\n",
       "      <td>1015.13</td>\n",
       "      <td>Partly cloudy throughout the day.</td>\n",
       "    </tr>\n",
       "    <tr>\n",
       "      <th>1</th>\n",
       "      <td>2006-04-01 01:00:00.000 +0200</td>\n",
       "      <td>Partly Cloudy</td>\n",
       "      <td>rain</td>\n",
       "      <td>9.355556</td>\n",
       "      <td>7.227778</td>\n",
       "      <td>0.86</td>\n",
       "      <td>14.2646</td>\n",
       "      <td>259.0</td>\n",
       "      <td>15.8263</td>\n",
       "      <td>0.0</td>\n",
       "      <td>1015.63</td>\n",
       "      <td>Partly cloudy throughout the day.</td>\n",
       "    </tr>\n",
       "    <tr>\n",
       "      <th>2</th>\n",
       "      <td>2006-04-01 02:00:00.000 +0200</td>\n",
       "      <td>Mostly Cloudy</td>\n",
       "      <td>rain</td>\n",
       "      <td>9.377778</td>\n",
       "      <td>9.377778</td>\n",
       "      <td>0.89</td>\n",
       "      <td>3.9284</td>\n",
       "      <td>204.0</td>\n",
       "      <td>14.9569</td>\n",
       "      <td>0.0</td>\n",
       "      <td>1015.94</td>\n",
       "      <td>Partly cloudy throughout the day.</td>\n",
       "    </tr>\n",
       "    <tr>\n",
       "      <th>3</th>\n",
       "      <td>2006-04-01 03:00:00.000 +0200</td>\n",
       "      <td>Partly Cloudy</td>\n",
       "      <td>rain</td>\n",
       "      <td>8.288889</td>\n",
       "      <td>5.944444</td>\n",
       "      <td>0.83</td>\n",
       "      <td>14.1036</td>\n",
       "      <td>269.0</td>\n",
       "      <td>15.8263</td>\n",
       "      <td>0.0</td>\n",
       "      <td>1016.41</td>\n",
       "      <td>Partly cloudy throughout the day.</td>\n",
       "    </tr>\n",
       "    <tr>\n",
       "      <th>4</th>\n",
       "      <td>2006-04-01 04:00:00.000 +0200</td>\n",
       "      <td>Mostly Cloudy</td>\n",
       "      <td>rain</td>\n",
       "      <td>8.755556</td>\n",
       "      <td>6.977778</td>\n",
       "      <td>0.83</td>\n",
       "      <td>11.0446</td>\n",
       "      <td>259.0</td>\n",
       "      <td>15.8263</td>\n",
       "      <td>0.0</td>\n",
       "      <td>1016.51</td>\n",
       "      <td>Partly cloudy throughout the day.</td>\n",
       "    </tr>\n",
       "  </tbody>\n",
       "</table>\n",
       "</div>"
      ],
      "text/plain": [
       "                  Formatted Date        Summary Precip Type  Temperature (C)  \\\n",
       "0  2006-04-01 00:00:00.000 +0200  Partly Cloudy        rain         9.472222   \n",
       "1  2006-04-01 01:00:00.000 +0200  Partly Cloudy        rain         9.355556   \n",
       "2  2006-04-01 02:00:00.000 +0200  Mostly Cloudy        rain         9.377778   \n",
       "3  2006-04-01 03:00:00.000 +0200  Partly Cloudy        rain         8.288889   \n",
       "4  2006-04-01 04:00:00.000 +0200  Mostly Cloudy        rain         8.755556   \n",
       "\n",
       "   Apparent Temperature (C)  Humidity  Wind Speed (km/h)  \\\n",
       "0                  7.388889      0.89            14.1197   \n",
       "1                  7.227778      0.86            14.2646   \n",
       "2                  9.377778      0.89             3.9284   \n",
       "3                  5.944444      0.83            14.1036   \n",
       "4                  6.977778      0.83            11.0446   \n",
       "\n",
       "   Wind Bearing (degrees)  Visibility (km)  Loud Cover  Pressure (millibars)  \\\n",
       "0                   251.0          15.8263         0.0               1015.13   \n",
       "1                   259.0          15.8263         0.0               1015.63   \n",
       "2                   204.0          14.9569         0.0               1015.94   \n",
       "3                   269.0          15.8263         0.0               1016.41   \n",
       "4                   259.0          15.8263         0.0               1016.51   \n",
       "\n",
       "                       Daily Summary  \n",
       "0  Partly cloudy throughout the day.  \n",
       "1  Partly cloudy throughout the day.  \n",
       "2  Partly cloudy throughout the day.  \n",
       "3  Partly cloudy throughout the day.  \n",
       "4  Partly cloudy throughout the day.  "
      ]
     },
     "execution_count": 2,
     "metadata": {},
     "output_type": "execute_result"
    }
   ],
   "source": [
    "data_lab.head()"
   ]
  },
  {
   "cell_type": "code",
   "execution_count": 4,
   "metadata": {},
   "outputs": [
    {
     "data": {
      "text/plain": [
       "array(['Partly cloudy throughout the day.',\n",
       "       'Mostly cloudy throughout the day.', 'Foggy in the evening.',\n",
       "       'Foggy overnight and breezy in the morning.',\n",
       "       'Overcast throughout the day.', 'Partly cloudy until night.',\n",
       "       'Mostly cloudy until night.',\n",
       "       'Foggy starting overnight continuing until morning.',\n",
       "       'Foggy in the morning.', 'Partly cloudy until evening.',\n",
       "       'Partly cloudy starting in the morning.',\n",
       "       'Mostly cloudy starting overnight continuing until night.',\n",
       "       'Mostly cloudy until evening.',\n",
       "       'Partly cloudy starting in the morning continuing until evening.',\n",
       "       'Partly cloudy starting in the afternoon.',\n",
       "       'Partly cloudy starting overnight.',\n",
       "       'Partly cloudy until morning.',\n",
       "       'Partly cloudy starting overnight continuing until night.',\n",
       "       'Partly cloudy starting in the afternoon continuing until night.',\n",
       "       'Mostly cloudy starting overnight.',\n",
       "       'Partly cloudy until afternoon.',\n",
       "       'Mostly cloudy until night and breezy in the afternoon.',\n",
       "       'Foggy starting in the evening.', 'Foggy throughout the day.',\n",
       "       'Foggy starting in the evening continuing until night.',\n",
       "       'Mostly cloudy until morning.',\n",
       "       'Foggy starting in the morning continuing until evening.',\n",
       "       'Foggy starting overnight continuing until afternoon.',\n",
       "       'Partly cloudy starting in the morning continuing until afternoon.',\n",
       "       'Foggy starting overnight.', 'Foggy until morning.',\n",
       "       'Foggy starting overnight continuing until evening.',\n",
       "       'Foggy starting in the afternoon.',\n",
       "       'Partly cloudy starting overnight continuing until afternoon.',\n",
       "       'Partly cloudy starting in the morning continuing until night.',\n",
       "       'Overcast until night.',\n",
       "       'Mostly cloudy starting overnight continuing until evening.',\n",
       "       'Foggy overnight.', 'Partly cloudy in the morning.',\n",
       "       'Mostly cloudy starting in the morning.',\n",
       "       'Foggy starting in the afternoon continuing until evening.',\n",
       "       'Mostly cloudy until afternoon.',\n",
       "       'Foggy starting overnight continuing until night.',\n",
       "       'Mostly cloudy throughout the day and breezy in the evening.',\n",
       "       'Foggy starting in the morning continuing until afternoon.',\n",
       "       'Partly cloudy in the afternoon.', 'Clear throughout the day.',\n",
       "       'Partly cloudy starting in the afternoon continuing until evening.',\n",
       "       'Partly cloudy overnight.', 'Overcast until evening.',\n",
       "       'Foggy in the morning and breezy starting in the afternoon continuing until night.',\n",
       "       'Breezy starting overnight continuing until afternoon and foggy starting in the morning continuing until evening.',\n",
       "       'Partly cloudy starting overnight continuing until morning.',\n",
       "       'Mostly cloudy throughout the day and breezy in the afternoon.',\n",
       "       'Mostly cloudy starting overnight and breezy in the afternoon.',\n",
       "       'Partly cloudy throughout the day and breezy starting in the morning continuing until night.',\n",
       "       'Mostly cloudy throughout the day and breezy in the morning.',\n",
       "       'Partly cloudy starting in the evening continuing until night.',\n",
       "       'Mostly cloudy until night and breezy starting in the morning continuing until afternoon.',\n",
       "       'Partly cloudy starting in the morning continuing until evening and breezy starting in the morning continuing until afternoon.',\n",
       "       'Partly cloudy throughout the day and breezy starting in the morning continuing until afternoon.',\n",
       "       'Partly cloudy throughout the day and breezy starting in the morning continuing until evening.',\n",
       "       'Foggy until afternoon.',\n",
       "       'Overcast until night and breezy overnight.',\n",
       "       'Breezy until morning and mostly cloudy throughout the day.',\n",
       "       'Mostly cloudy starting in the morning continuing until night.',\n",
       "       'Breezy starting overnight continuing until morning and partly cloudy starting overnight continuing until evening.',\n",
       "       'Partly cloudy in the evening.',\n",
       "       'Mostly cloudy starting overnight continuing until afternoon.',\n",
       "       'Mostly cloudy starting in the morning continuing until afternoon.',\n",
       "       'Mostly cloudy starting in the afternoon.',\n",
       "       'Mostly cloudy starting in the morning continuing until evening.',\n",
       "       'Partly cloudy starting overnight continuing until afternoon and breezy in the afternoon.',\n",
       "       'Partly cloudy starting overnight and breezy in the afternoon.',\n",
       "       'Mostly cloudy starting in the morning and breezy in the evening.',\n",
       "       'Foggy starting in the afternoon continuing until night.',\n",
       "       'Foggy until night.',\n",
       "       'Foggy starting in the morning continuing until night.',\n",
       "       'Foggy until evening.', 'Foggy starting in the morning.',\n",
       "       'Partly cloudy starting overnight continuing until evening.',\n",
       "       'Partly cloudy starting overnight continuing until evening and breezy starting in the morning continuing until evening.',\n",
       "       'Breezy starting overnight continuing until morning and foggy in the evening.',\n",
       "       'Mostly cloudy throughout the day and breezy starting in the morning continuing until evening.',\n",
       "       'Partly cloudy until evening and breezy starting in the morning continuing until afternoon.',\n",
       "       'Mostly cloudy starting in the afternoon continuing until night.',\n",
       "       'Breezy starting overnight continuing until afternoon and mostly cloudy starting overnight continuing until evening.',\n",
       "       'Mostly cloudy throughout the day and windy starting in the morning continuing until evening.',\n",
       "       'Breezy and partly cloudy in the afternoon.',\n",
       "       'Mostly cloudy starting overnight and breezy starting in the morning continuing until afternoon.',\n",
       "       'Partly cloudy until night and breezy starting in the morning continuing until afternoon.',\n",
       "       'Breezy and mostly cloudy overnight.',\n",
       "       'Mostly cloudy throughout the day and breezy overnight.',\n",
       "       'Mostly cloudy throughout the day and breezy starting in the morning continuing until afternoon.',\n",
       "       'Partly cloudy throughout the day and breezy in the morning.',\n",
       "       'Partly cloudy starting in the morning continuing until evening and breezy starting in the afternoon continuing until evening.',\n",
       "       'Partly cloudy throughout the day and breezy starting in the afternoon continuing until evening.',\n",
       "       'Mostly cloudy starting overnight and breezy in the morning.',\n",
       "       'Partly cloudy starting in the afternoon and breezy in the afternoon.',\n",
       "       'Partly cloudy starting in the morning and breezy in the evening.',\n",
       "       'Partly cloudy until evening and breezy in the morning.',\n",
       "       'Partly cloudy starting overnight continuing until evening and breezy starting in the morning continuing until afternoon.',\n",
       "       'Partly cloudy starting overnight continuing until evening and breezy in the evening.',\n",
       "       'Mostly cloudy throughout the day and breezy starting in the evening.',\n",
       "       'Mostly cloudy throughout the day and windy starting in the morning continuing until night.',\n",
       "       'Breezy starting overnight continuing until morning and partly cloudy starting in the morning.',\n",
       "       'Mostly cloudy starting in the morning and breezy overnight.',\n",
       "       'Overcast throughout the day and breezy starting overnight continuing until morning.',\n",
       "       'Partly cloudy throughout the day and breezy in the evening.',\n",
       "       'Mostly cloudy until evening and breezy starting in the morning continuing until afternoon.',\n",
       "       'Mostly cloudy until night and breezy in the evening.',\n",
       "       'Partly cloudy starting in the evening.',\n",
       "       'Overcast starting in the morning.',\n",
       "       'Mostly cloudy starting overnight continuing until evening and breezy starting overnight continuing until morning.',\n",
       "       'Partly cloudy starting overnight continuing until morning and breezy starting in the morning continuing until afternoon.',\n",
       "       'Partly cloudy until evening and breezy starting in the morning continuing until evening.',\n",
       "       'Breezy starting in the morning continuing until afternoon and partly cloudy starting in the morning.',\n",
       "       'Partly cloudy starting in the morning and breezy starting in the afternoon continuing until evening.',\n",
       "       'Mostly cloudy starting overnight continuing until morning.',\n",
       "       'Mostly cloudy throughout the day and breezy starting overnight continuing until afternoon.',\n",
       "       'Breezy starting overnight continuing until morning and foggy overnight.',\n",
       "       'Mostly cloudy throughout the day and breezy starting overnight continuing until morning.',\n",
       "       'Overcast throughout the day and breezy in the morning.',\n",
       "       'Overcast throughout the day and breezy in the evening.',\n",
       "       'Mostly cloudy starting in the morning continuing until night and breezy in the afternoon.',\n",
       "       'Mostly cloudy until night and breezy starting in the evening continuing until night.',\n",
       "       'Partly cloudy until night and breezy in the morning.',\n",
       "       'Partly cloudy until evening and breezy overnight.',\n",
       "       'Partly cloudy starting overnight continuing until night and windy starting in the morning continuing until afternoon.',\n",
       "       'Breezy starting in the morning continuing until afternoon and mostly cloudy starting in the morning.',\n",
       "       'Foggy starting overnight continuing until morning and breezy starting in the evening.',\n",
       "       'Mostly cloudy until night and breezy starting in the afternoon.',\n",
       "       'Foggy in the afternoon.',\n",
       "       'Mostly cloudy until night and breezy starting in the afternoon continuing until night.',\n",
       "       'Foggy starting overnight continuing until morning and breezy starting in the evening continuing until night.',\n",
       "       'Breezy until afternoon and mostly cloudy throughout the day.',\n",
       "       'Mostly cloudy throughout the day and breezy starting in the morning continuing until night.',\n",
       "       'Partly cloudy starting overnight continuing until evening and breezy in the morning.',\n",
       "       'Mostly cloudy starting in the morning and breezy in the afternoon.',\n",
       "       'Mostly cloudy starting overnight continuing until night and breezy starting in the morning continuing until evening.',\n",
       "       'Foggy starting overnight continuing until morning and breezy starting in the morning continuing until afternoon.',\n",
       "       'Mostly cloudy until evening and windy starting in the morning continuing until afternoon.',\n",
       "       'Foggy starting overnight continuing until afternoon and breezy in the morning.',\n",
       "       'Foggy starting in the morning continuing until afternoon and breezy starting in the evening.',\n",
       "       'Partly cloudy starting overnight and breezy starting in the morning continuing until afternoon.',\n",
       "       'Foggy starting overnight continuing until morning and breezy in the afternoon.',\n",
       "       'Mostly cloudy starting overnight and breezy starting in the afternoon continuing until evening.',\n",
       "       'Overcast throughout the day and breezy starting overnight continuing until afternoon.',\n",
       "       'Partly cloudy starting in the morning continuing until evening and breezy in the afternoon.',\n",
       "       'Partly cloudy starting in the morning continuing until night and breezy starting in the afternoon continuing until evening.',\n",
       "       'Mostly cloudy until night and breezy starting in the evening.',\n",
       "       'Breezy in the morning and mostly cloudy starting in the morning.',\n",
       "       'Mostly cloudy until night and breezy starting in the morning continuing until evening.',\n",
       "       'Partly cloudy starting overnight continuing until evening and windy starting in the morning continuing until evening.',\n",
       "       'Breezy in the morning and partly cloudy starting in the evening continuing until night.',\n",
       "       'Partly cloudy overnight and breezy starting in the morning continuing until afternoon.',\n",
       "       'Light rain in the morning.', 'Light rain until morning.',\n",
       "       'Light rain in the morning and afternoon.',\n",
       "       'Partly cloudy starting in the morning continuing until night and breezy starting in the morning continuing until afternoon.',\n",
       "       'Breezy starting in the afternoon continuing until night and mostly cloudy starting in the evening.',\n",
       "       'Mostly cloudy throughout the day and breezy starting in the evening continuing until night.',\n",
       "       'Foggy starting in the afternoon and breezy starting in the afternoon continuing until evening.',\n",
       "       'Breezy and foggy until morning.',\n",
       "       'Mostly cloudy until night and breezy starting overnight continuing until morning.',\n",
       "       'Partly cloudy starting overnight continuing until night and breezy in the morning.',\n",
       "       'Partly cloudy starting overnight continuing until night and breezy in the afternoon.',\n",
       "       'Mostly cloudy starting in the morning and breezy starting in the afternoon continuing until evening.',\n",
       "       'Partly cloudy starting overnight and breezy starting in the evening.',\n",
       "       'Breezy overnight and overcast throughout the day.',\n",
       "       'Partly cloudy until night and breezy in the afternoon.',\n",
       "       'Mostly cloudy starting overnight and breezy starting in the evening.',\n",
       "       'Breezy overnight and partly cloudy until evening.',\n",
       "       'Mostly cloudy starting in the evening.',\n",
       "       'Mostly cloudy throughout the day and breezy starting in the afternoon.',\n",
       "       'Mostly cloudy throughout the day and breezy starting in the afternoon continuing until evening.',\n",
       "       'Mostly cloudy until night and windy starting in the morning continuing until afternoon.',\n",
       "       'Breezy and foggy starting in the evening.',\n",
       "       'Breezy overnight and partly cloudy throughout the day.',\n",
       "       'Overcast throughout the day and breezy starting in the evening.',\n",
       "       'Breezy until evening and foggy in the morning.',\n",
       "       'Breezy overnight and mostly cloudy throughout the day.',\n",
       "       'Partly cloudy until evening and breezy in the afternoon.',\n",
       "       'Partly cloudy starting in the morning and breezy starting in the morning continuing until afternoon.',\n",
       "       'Mostly cloudy until evening and breezy in the evening.',\n",
       "       'Windy in the afternoon.', 'Overcast until morning.',\n",
       "       'Mostly cloudy overnight.',\n",
       "       'Foggy starting in the morning continuing until evening and breezy in the evening.',\n",
       "       'Breezy starting overnight continuing until morning.',\n",
       "       'Breezy starting in the afternoon continuing until evening and foggy starting in the evening.',\n",
       "       'Mostly cloudy until night and breezy overnight.',\n",
       "       'Mostly cloudy starting in the morning and windy in the evening.',\n",
       "       'Partly cloudy throughout the day and windy starting in the morning continuing until afternoon.',\n",
       "       'Breezy until afternoon and overcast throughout the day.',\n",
       "       'Breezy in the morning and foggy in the evening.',\n",
       "       'Breezy starting in the afternoon continuing until evening and foggy in the evening.',\n",
       "       'Breezy starting in the morning continuing until night.',\n",
       "       'Breezy in the morning and mostly cloudy starting in the evening.',\n",
       "       'Mostly cloudy until evening and breezy in the afternoon.',\n",
       "       'Mostly cloudy until night and breezy starting in the afternoon continuing until evening.',\n",
       "       'Mostly cloudy until evening and breezy starting overnight continuing until morning.',\n",
       "       'Overcast throughout the day and breezy in the afternoon.',\n",
       "       'Overcast throughout the day and breezy starting in the morning continuing until evening.',\n",
       "       'Overcast throughout the day and breezy overnight.',\n",
       "       'Overcast starting in the afternoon.',\n",
       "       'Partly cloudy throughout the day and breezy in the afternoon.',\n",
       "       'Light rain starting overnight.',\n",
       "       'Drizzle starting in the evening.', 'Drizzle until morning.',\n",
       "       'Rain throughout the day.', 'Rain until morning.',\n",
       "       'Light rain overnight.', 'Rain until afternoon.'], dtype=object)"
      ]
     },
     "execution_count": 4,
     "metadata": {},
     "output_type": "execute_result"
    }
   ],
   "source": [
    "data_lab[\"Daily Summary\"].unique()"
   ]
  },
  {
   "cell_type": "code",
   "execution_count": 6,
   "metadata": {},
   "outputs": [],
   "source": [
    "data_lab[\"Daily Summary\"] = data_lab[\"Daily Summary\"].astype('category').cat.codes\n",
    "data_lab[\"Precip Type\"] = data_lab[\"Precip Type\"].astype('category').cat.codes\n",
    "data_lab[\"Summary\"] = data_lab[\"Summary\"].astype('category').cat.codes\n",
    "data_lab = data_lab.drop(columns=[\"Formatted Date\"])"
   ]
  },
  {
   "cell_type": "code",
   "execution_count": 7,
   "metadata": {},
   "outputs": [
    {
     "data": {
      "text/html": [
       "<div>\n",
       "<style scoped>\n",
       "    .dataframe tbody tr th:only-of-type {\n",
       "        vertical-align: middle;\n",
       "    }\n",
       "\n",
       "    .dataframe tbody tr th {\n",
       "        vertical-align: top;\n",
       "    }\n",
       "\n",
       "    .dataframe thead th {\n",
       "        text-align: right;\n",
       "    }\n",
       "</style>\n",
       "<table border=\"1\" class=\"dataframe\">\n",
       "  <thead>\n",
       "    <tr style=\"text-align: right;\">\n",
       "      <th></th>\n",
       "      <th>Summary</th>\n",
       "      <th>Precip Type</th>\n",
       "      <th>Temperature (C)</th>\n",
       "      <th>Apparent Temperature (C)</th>\n",
       "      <th>Humidity</th>\n",
       "      <th>Wind Speed (km/h)</th>\n",
       "      <th>Wind Bearing (degrees)</th>\n",
       "      <th>Visibility (km)</th>\n",
       "      <th>Loud Cover</th>\n",
       "      <th>Pressure (millibars)</th>\n",
       "      <th>Daily Summary</th>\n",
       "    </tr>\n",
       "  </thead>\n",
       "  <tbody>\n",
       "    <tr>\n",
       "      <th>count</th>\n",
       "      <td>96453.000000</td>\n",
       "      <td>96453.000000</td>\n",
       "      <td>96453.000000</td>\n",
       "      <td>96453.000000</td>\n",
       "      <td>96453.000000</td>\n",
       "      <td>96453.000000</td>\n",
       "      <td>96453.000000</td>\n",
       "      <td>96453.000000</td>\n",
       "      <td>96453.0</td>\n",
       "      <td>96453.000000</td>\n",
       "      <td>96453.000000</td>\n",
       "    </tr>\n",
       "    <tr>\n",
       "      <th>mean</th>\n",
       "      <td>16.006024</td>\n",
       "      <td>0.105699</td>\n",
       "      <td>11.932678</td>\n",
       "      <td>10.855029</td>\n",
       "      <td>0.734899</td>\n",
       "      <td>10.810640</td>\n",
       "      <td>187.509232</td>\n",
       "      <td>10.347325</td>\n",
       "      <td>0.0</td>\n",
       "      <td>1003.235956</td>\n",
       "      <td>129.308057</td>\n",
       "    </tr>\n",
       "    <tr>\n",
       "      <th>std</th>\n",
       "      <td>4.361497</td>\n",
       "      <td>0.324420</td>\n",
       "      <td>9.551546</td>\n",
       "      <td>10.696847</td>\n",
       "      <td>0.195473</td>\n",
       "      <td>6.913571</td>\n",
       "      <td>107.383428</td>\n",
       "      <td>4.192123</td>\n",
       "      <td>0.0</td>\n",
       "      <td>116.969906</td>\n",
       "      <td>56.275398</td>\n",
       "    </tr>\n",
       "    <tr>\n",
       "      <th>min</th>\n",
       "      <td>0.000000</td>\n",
       "      <td>-1.000000</td>\n",
       "      <td>-21.822222</td>\n",
       "      <td>-27.716667</td>\n",
       "      <td>0.000000</td>\n",
       "      <td>0.000000</td>\n",
       "      <td>0.000000</td>\n",
       "      <td>0.000000</td>\n",
       "      <td>0.0</td>\n",
       "      <td>0.000000</td>\n",
       "      <td>0.000000</td>\n",
       "    </tr>\n",
       "    <tr>\n",
       "      <th>25%</th>\n",
       "      <td>17.000000</td>\n",
       "      <td>0.000000</td>\n",
       "      <td>4.688889</td>\n",
       "      <td>2.311111</td>\n",
       "      <td>0.600000</td>\n",
       "      <td>5.828200</td>\n",
       "      <td>116.000000</td>\n",
       "      <td>8.339800</td>\n",
       "      <td>0.0</td>\n",
       "      <td>1011.900000</td>\n",
       "      <td>95.000000</td>\n",
       "    </tr>\n",
       "    <tr>\n",
       "      <th>50%</th>\n",
       "      <td>18.000000</td>\n",
       "      <td>0.000000</td>\n",
       "      <td>12.000000</td>\n",
       "      <td>12.000000</td>\n",
       "      <td>0.780000</td>\n",
       "      <td>9.965900</td>\n",
       "      <td>180.000000</td>\n",
       "      <td>10.046400</td>\n",
       "      <td>0.0</td>\n",
       "      <td>1016.450000</td>\n",
       "      <td>118.000000</td>\n",
       "    </tr>\n",
       "    <tr>\n",
       "      <th>75%</th>\n",
       "      <td>19.000000</td>\n",
       "      <td>0.000000</td>\n",
       "      <td>18.838889</td>\n",
       "      <td>18.838889</td>\n",
       "      <td>0.890000</td>\n",
       "      <td>14.135800</td>\n",
       "      <td>290.000000</td>\n",
       "      <td>14.812000</td>\n",
       "      <td>0.0</td>\n",
       "      <td>1021.090000</td>\n",
       "      <td>181.000000</td>\n",
       "    </tr>\n",
       "    <tr>\n",
       "      <th>max</th>\n",
       "      <td>26.000000</td>\n",
       "      <td>1.000000</td>\n",
       "      <td>39.905556</td>\n",
       "      <td>39.344444</td>\n",
       "      <td>1.000000</td>\n",
       "      <td>63.852600</td>\n",
       "      <td>359.000000</td>\n",
       "      <td>16.100000</td>\n",
       "      <td>0.0</td>\n",
       "      <td>1046.380000</td>\n",
       "      <td>213.000000</td>\n",
       "    </tr>\n",
       "  </tbody>\n",
       "</table>\n",
       "</div>"
      ],
      "text/plain": [
       "            Summary   Precip Type  Temperature (C)  Apparent Temperature (C)  \\\n",
       "count  96453.000000  96453.000000     96453.000000              96453.000000   \n",
       "mean      16.006024      0.105699        11.932678                 10.855029   \n",
       "std        4.361497      0.324420         9.551546                 10.696847   \n",
       "min        0.000000     -1.000000       -21.822222                -27.716667   \n",
       "25%       17.000000      0.000000         4.688889                  2.311111   \n",
       "50%       18.000000      0.000000        12.000000                 12.000000   \n",
       "75%       19.000000      0.000000        18.838889                 18.838889   \n",
       "max       26.000000      1.000000        39.905556                 39.344444   \n",
       "\n",
       "           Humidity  Wind Speed (km/h)  Wind Bearing (degrees)  \\\n",
       "count  96453.000000       96453.000000            96453.000000   \n",
       "mean       0.734899          10.810640              187.509232   \n",
       "std        0.195473           6.913571              107.383428   \n",
       "min        0.000000           0.000000                0.000000   \n",
       "25%        0.600000           5.828200              116.000000   \n",
       "50%        0.780000           9.965900              180.000000   \n",
       "75%        0.890000          14.135800              290.000000   \n",
       "max        1.000000          63.852600              359.000000   \n",
       "\n",
       "       Visibility (km)  Loud Cover  Pressure (millibars)  Daily Summary  \n",
       "count     96453.000000     96453.0          96453.000000   96453.000000  \n",
       "mean         10.347325         0.0           1003.235956     129.308057  \n",
       "std           4.192123         0.0            116.969906      56.275398  \n",
       "min           0.000000         0.0              0.000000       0.000000  \n",
       "25%           8.339800         0.0           1011.900000      95.000000  \n",
       "50%          10.046400         0.0           1016.450000     118.000000  \n",
       "75%          14.812000         0.0           1021.090000     181.000000  \n",
       "max          16.100000         0.0           1046.380000     213.000000  "
      ]
     },
     "execution_count": 7,
     "metadata": {},
     "output_type": "execute_result"
    }
   ],
   "source": [
    "\n",
    "#Descibir el dataset, estadísticamente\n",
    "data_lab.describe()"
   ]
  },
  {
   "cell_type": "code",
   "execution_count": 8,
   "metadata": {},
   "outputs": [
    {
     "data": {
      "text/plain": [
       "Summary                        int8\n",
       "Precip Type                    int8\n",
       "Temperature (C)             float64\n",
       "Apparent Temperature (C)    float64\n",
       "Humidity                    float64\n",
       "Wind Speed (km/h)           float64\n",
       "Wind Bearing (degrees)      float64\n",
       "Visibility (km)             float64\n",
       "Loud Cover                  float64\n",
       "Pressure (millibars)        float64\n",
       "Daily Summary                 int16\n",
       "dtype: object"
      ]
     },
     "execution_count": 8,
     "metadata": {},
     "output_type": "execute_result"
    }
   ],
   "source": [
    "data_lab.dtypes"
   ]
  },
  {
   "cell_type": "code",
   "execution_count": 33,
   "metadata": {},
   "outputs": [
    {
     "data": {
      "text/plain": [
       "<AxesSubplot:ylabel='Frequency'>"
      ]
     },
     "execution_count": 33,
     "metadata": {},
     "output_type": "execute_result"
    },
    {
     "data": {
      "image/png": "[encoded data removed]",
      "text/plain": [
       "<Figure size 2160x720 with 1 Axes>"
      ]
     },
     "metadata": {
      "needs_background": "light"
     },
     "output_type": "display_data"
    }
   ],
   "source": [
    "data_lab.plot.hist(bins=3,figsize=(30,10))"
   ]
  },
  {
   "cell_type": "code",
   "execution_count": 27,
   "metadata": {},
   "outputs": [
    {
     "data": {
      "text/plain": [
       "<AxesSubplot:>"
      ]
     },
     "execution_count": 27,
     "metadata": {},
     "output_type": "execute_result"
    },
    {
     "data": {
      "image/png": "[encoded data removed]",
      "text/plain": [
       "<Figure size 2160x720 with 1 Axes>"
      ]
     },
     "metadata": {
      "needs_background": "light"
     },
     "output_type": "display_data"
    }
   ],
   "source": [
    "data_lab.plot.box(figsize=(30,10),grid=True)"
   ]
  },
  {
   "cell_type": "code",
   "execution_count": 34,
   "metadata": {},
   "outputs": [],
   "source": [
    "y = data_lab['Daily Summary']\n",
    "X = data_lab.drop(columns=['Daily Summary'])"
   ]
  },
  {
   "cell_type": "code",
   "execution_count": 35,
   "metadata": {},
   "outputs": [
    {
     "name": "stdout",
     "output_type": "stream",
     "text": [
      "[[ 0.68645963 -0.32581153 -0.25759902 ...  1.30697578  0.\n",
      "   0.10168518]\n",
      " [ 0.68645963 -0.32581153 -0.26981351 ...  1.30697578  0.\n",
      "   0.1059598 ]\n",
      " [ 0.22789914 -0.32581153 -0.26748694 ...  1.09958576  0.\n",
      "   0.10861007]\n",
      " ...\n",
      " [ 0.68645963 -0.32581153  1.0580761  ...  1.37226523  0.\n",
      "   0.10621628]\n",
      " [ 0.68645963 -0.32581153  1.00398335 ...  1.37226523  0.\n",
      "   0.10869557]\n",
      " [ 0.68645963 -0.32581153  0.89056308 ...  1.23400522  0.\n",
      "   0.11049091]]\n"
     ]
    }
   ],
   "source": [
    "from sklearn.preprocessing import StandardScaler\n",
    "scaler = StandardScaler()\n",
    "X_scaler = scaler.fit_transform(X)\n",
    "print(X_scaler)"
   ]
  },
  {
   "cell_type": "code",
   "execution_count": 36,
   "metadata": {},
   "outputs": [],
   "source": [
    "from sklearn.ensemble import RandomForestRegressor\n",
    "from sklearn.model_selection import train_test_split \n",
    "\n",
    "rndfrstreg = RandomForestRegressor(max_depth=None,min_samples_split=5)\n",
    "X_train, X_validation, Y_train, Y_validation = train_test_split(X_scaler, y, test_size=0.25, random_state=1, shuffle=True)\n",
    "rndfrstreg.fit(X_train,Y_train)\n",
    "y_pred_rndfrstreg = rndfrstreg.predict(X_validation)"
   ]
  },
  {
   "cell_type": "code",
   "execution_count": 38,
   "metadata": {},
   "outputs": [
    {
     "name": "stdout",
     "output_type": "stream",
     "text": [
      "Model: \"sequential_2\"\n",
      "_________________________________________________________________\n",
      " Layer (type)                Output Shape              Param #   \n",
      "=================================================================\n",
      " dense_6 (Dense)             (None, 128)               1408      \n",
      "                                                                 \n",
      " dense_7 (Dense)             (None, 32)                4128      \n",
      "                                                                 \n",
      " dense_8 (Dense)             (None, 1)                 33        \n",
      "                                                                 \n",
      "=================================================================\n",
      "Total params: 5,569\n",
      "Trainable params: 5,569\n",
      "Non-trainable params: 0\n",
      "_________________________________________________________________\n"
     ]
    }
   ],
   "source": [
    "import tensorflow as tf\n",
    "from keras import *\n",
    "\n",
    "model = tf.keras.Sequential([layers.Dense(128, activation='relu', input_shape=[len(X_scaler[0])]), \n",
    "                             layers.Dense(32, activation='relu'),\n",
    "                             layers.Dense(1)])\n",
    "optimizer = tf.keras.optimizers.RMSprop(0.001)\n",
    "model.compile(loss='mse',optimizer=optimizer,metrics=['mae', 'mse'])\n",
    "model.summary()"
   ]
  },
  {
   "cell_type": "code",
   "execution_count": 39,
   "metadata": {},
   "outputs": [
    {
     "name": "stdout",
     "output_type": "stream",
     "text": [
      "Epoch 1/10\n",
      "1809/1809 [==============================] - 3s 1ms/step - loss: 3558.5630 - mae: 45.3504 - mse: 3558.5630 - val_loss: 2107.6763 - val_mae: 36.4006 - val_mse: 2107.6763\n",
      "Epoch 2/10\n",
      "1809/1809 [==============================] - 2s 1ms/step - loss: 2091.8608 - mae: 36.3173 - mse: 2091.8608 - val_loss: 2087.6538 - val_mae: 36.1607 - val_mse: 2087.6538\n",
      "Epoch 3/10\n",
      "1809/1809 [==============================] - 3s 1ms/step - loss: 2071.6396 - mae: 36.0536 - mse: 2071.6396 - val_loss: 2075.1162 - val_mae: 36.1283 - val_mse: 2075.1162\n",
      "Epoch 4/10\n",
      "1809/1809 [==============================] - 3s 2ms/step - loss: 2057.2102 - mae: 35.8787 - mse: 2057.2102 - val_loss: 2047.0354 - val_mae: 35.5750 - val_mse: 2047.0354\n",
      "Epoch 5/10\n",
      "1809/1809 [==============================] - 3s 2ms/step - loss: 2038.7468 - mae: 35.6269 - mse: 2038.7468 - val_loss: 2027.1897 - val_mae: 35.3758 - val_mse: 2027.1897\n",
      "Epoch 6/10\n",
      "1809/1809 [==============================] - 4s 2ms/step - loss: 2024.4045 - mae: 35.4023 - mse: 2024.4045 - val_loss: 2031.7786 - val_mae: 35.2849 - val_mse: 2031.7786\n",
      "Epoch 7/10\n",
      "1809/1809 [==============================] - 3s 2ms/step - loss: 2014.6453 - mae: 35.2590 - mse: 2014.6453 - val_loss: 2017.0199 - val_mae: 35.1445 - val_mse: 2017.0199\n",
      "Epoch 8/10\n",
      "1809/1809 [==============================] - 3s 2ms/step - loss: 2008.0822 - mae: 35.1008 - mse: 2008.0822 - val_loss: 2009.7378 - val_mae: 34.9819 - val_mse: 2009.7378\n",
      "Epoch 9/10\n",
      "1809/1809 [==============================] - 3s 2ms/step - loss: 2001.1803 - mae: 34.9965 - mse: 2001.1803 - val_loss: 2006.4049 - val_mae: 34.8184 - val_mse: 2006.4049\n",
      "Epoch 10/10\n",
      "1809/1809 [==============================] - 3s 2ms/step - loss: 1994.3616 - mae: 34.8723 - mse: 1994.3616 - val_loss: 1996.1387 - val_mae: 34.7054 - val_mse: 1996.1387\n"
     ]
    },
    {
     "data": {
      "text/plain": [
       "<keras.callbacks.History at 0x261e0c4be50>"
      ]
     },
     "execution_count": 39,
     "metadata": {},
     "output_type": "execute_result"
    }
   ],
   "source": [
    "model.fit(X_train, Y_train, epochs=10,validation_split = 0.2)"
   ]
  },
  {
   "cell_type": "code",
   "execution_count": 41,
   "metadata": {},
   "outputs": [],
   "source": [
    "import numpy as np\n",
    "y_pred_dnn = np.floor(model.predict(X_validation))"
   ]
  },
  {
   "cell_type": "code",
   "execution_count": 42,
   "metadata": {},
   "outputs": [
    {
     "name": "stdout",
     "output_type": "stream",
     "text": [
      "Mean Absolute Error (MAE)  - Random Forest Regressor: 30.04956782189493\n",
      "Mean Squared Error (MSE) - Random Forest Regressor: 1633.6742043514814\n",
      "R^2: -0.12972366404455205\n",
      "Mean Absolute Error (MAE) -  Red Neurnoal Densa: 35.01335\n",
      "Mean Squared Error (MSE) -  Red Neurnoal Densa: 2018.2213\n",
      "R^2: -0.5895623107808203\n"
     ]
    }
   ],
   "source": [
    "from sklearn import metrics\n",
    "import numpy as np\n",
    "\n",
    "print('Mean Absolute Error (MAE)  - Random Forest Regressor:', metrics.mean_absolute_error(y_pred_rndfrstreg, Y_validation))\n",
    "print('Mean Squared Error (MSE) - Random Forest Regressor:', metrics.mean_squared_error(y_pred_rndfrstreg, Y_validation))\n",
    "print('R^2:', metrics.r2_score(y_pred_rndfrstreg, Y_validation))\n",
    "print('Mean Absolute Error (MAE) -  Red Neurnoal Densa:', metrics.mean_absolute_error(y_pred_dnn, Y_validation))\n",
    "print('Mean Squared Error (MSE) -  Red Neurnoal Densa:', metrics.mean_squared_error(y_pred_dnn, Y_validation))\n",
    "print('R^2:', metrics.r2_score(y_pred_dnn, Y_validation))"
   ]
  },
  {
   "cell_type": "code",
   "execution_count": 43,
   "metadata": {},
   "outputs": [
    {
     "data": {
      "image/png": "[encoded data removed]",
      "text/plain": [
       "<Figure size 432x288 with 1 Axes>"
      ]
     },
     "metadata": {
      "needs_background": "light"
     },
     "output_type": "display_data"
    },
    {
     "data": {
      "image/png": "[encoded data removed]",
      "text/plain": [
       "<Figure size 432x288 with 1 Axes>"
      ]
     },
     "metadata": {
      "needs_background": "light"
     },
     "output_type": "display_data"
    }
   ],
   "source": [
    "plt.scatter(Y_validation, y_pred_rndfrstreg)\n",
    "plt.xlabel('Valores verdaderos ')\n",
    "plt.ylabel('Predicciones')\n",
    "plt.axis('equal')\n",
    "plt.axis('square')\n",
    "plt.title(\"Ajuste del modelo mediante Random Forest Regressor\")\n",
    "plt.xlim([0,plt.xlim()[1]])\n",
    "plt.ylim([0,plt.ylim()[1]])\n",
    "plt.grid()\n",
    "_ = plt.plot([-250, 250], [-250, 250])\n",
    "plt.show()\n",
    "plt.scatter(Y_validation, y_pred_dnn)\n",
    "plt.xlabel('Valores verdaderos ')\n",
    "plt.ylabel('Predicciones')\n",
    "plt.axis('equal')\n",
    "plt.axis('square')\n",
    "plt.title(\"Ajuste del modelo mediante la Red Neuronal Densa\")\n",
    "plt.xlim([0,plt.xlim()[1]])\n",
    "plt.ylim([0,plt.ylim()[1]])\n",
    "plt.grid()\n",
    "_ = plt.plot([-250, 250], [-250, 250])\n",
    "plt.show()"
   ]
  },
  {
   "cell_type": "code",
   "execution_count": 44,
   "metadata": {},
   "outputs": [
    {
     "data": {
      "image/png": "[encoded data removed]",
      "text/plain": [
       "<Figure size 432x288 with 1 Axes>"
      ]
     },
     "metadata": {
      "needs_background": "light"
     },
     "output_type": "display_data"
    },
    {
     "data": {
      "image/png": "[encoded data removed]",
      "text/plain": [
       "<Figure size 432x288 with 1 Axes>"
      ]
     },
     "metadata": {
      "needs_background": "light"
     },
     "output_type": "display_data"
    }
   ],
   "source": [
    "error_rs = y_pred_rndfrstreg - Y_validation\n",
    "plt.hist(error_rs, bins = 25)\n",
    "plt.grid()\n",
    "plt.xlabel(\"Error predictivo - Random Forest Regressor\")\n",
    "_ = plt.ylabel(\"Total\")\n",
    "plt.show()\n",
    "error_dnn = y_pred_dnn.flatten() - Y_validation\n",
    "plt.hist(error_dnn, bins = 25)\n",
    "plt.grid()\n",
    "plt.xlabel(\"Error predictivo - Red Neuronal Densa\")\n",
    "_ = plt.ylabel(\"Total\")"
   ]
  }
 ],
 "metadata": {
  "interpreter": {
   "hash": "b3ba2566441a7c06988d0923437866b63cedc61552a5af99d1f4fb67d367b25f"
  },
  "kernelspec": {
   "display_name": "Python 3.9.7 64-bit ('base': conda)",
   "language": "python",
   "name": "python3"
  },
  "language_info": {
   "codemirror_mode": {
    "name": "ipython",
    "version": 3
   },
   "file_extension": ".py",
   "mimetype": "text/x-python",
   "name": "python",
   "nbconvert_exporter": "python",
   "pygments_lexer": "ipython3",
   "version": "3.9.7"
  },
  "orig_nbformat": 4
 },
 "nbformat": 4,
 "nbformat_minor": 2
}
