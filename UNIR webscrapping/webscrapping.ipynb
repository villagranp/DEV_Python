{
 "cells": [
  {
   "cell_type": "code",
   "execution_count": 1,
   "metadata": {},
   "outputs": [],
   "source": [
    "import urllib.request\n",
    "from bs4 import BeautifulSoup\n",
    "\n",
    "save = 0\n",
    "data = {}\n",
    "indice = []\n",
    "valores = []\n",
    "percent = []\n",
    "networks = [\n",
    "    'Facebook',\n",
    "    'Delicious',\n",
    "    'Digg',\n",
    "    '.Docstoc',\n",
    "    'Flickr',\n",
    "    'Friendfeed',\n",
    "    'Linkedid',\n",
    "    'Mixx',\n",
    "    'Myspace',\n",
    "    'Ning',\n",
    "    'Qik',\n",
    "    'Scribd',\n",
    "    'Twitter',\n",
    "    'Upcoming', #second srtuctrure 13\n",
    "    'Upstream',\n",
    "    'Yelp',\n",
    "    'Youtube' #second srtuctrure 16\n",
    "\n",
    "]\n",
    "webpage = urllib.request.urlopen('https://www.briansolis.com/2009/10/revealing-the-people-defining-social-networks/').read().decode()\n",
    "bsWebpage = BeautifulSoup(webpage)\n",
    "tags = bsWebpage('p')\n",
    "\n",
    "for tag in tags:\n",
    "   \n",
    "    content = tag.find('img')\n",
    "    finish = tag.find('span')\n",
    "    if(content != None):\n",
    "        if (content.get('src') == 'http://www.briansolis.com/wp-content/uploads/2009/10/facebook-logo.jpg'):\n",
    "            save = 1\n",
    "            \n",
    "    if(finish != None):\n",
    "        if (finish.get('style') == 'font-weight: bold;'):\n",
    "            save = 0\n",
    "\n",
    "    if (save == 1 ):\n",
    "        if (tag.text != None and tag.text != '—' and tag.text != ''):\n",
    "            valores.append(tag.text)\n",
    "        else: \n",
    "            if (tag.text == '—'):\n",
    "                newval = valores[:]\n",
    "                indice.append(newval)\n",
    "                valores.clear()\n",
    "                \n",
    "                \n",
    "        \n"
   ]
  },
  {
   "cell_type": "code",
   "execution_count": 76,
   "metadata": {},
   "outputs": [],
   "source": [
    "uniquevisitorsus = []\n",
    "uniquevisitorsww = []\n",
    "reachus = []\n",
    "reachww = []\n",
    "pageviewsus = []\n",
    "pageviewsww = []\n",
    "totalvisitsus = []\n",
    "totalvisitsww = []\n",
    "avgvisitspervisitorus = []\n",
    "avgvisitspervisitorww = []\n",
    "avgtimeonsiteus = []\n",
    "avgtimeonsiteww = []\n",
    "gender = []\n",
    "education = []\n",
    "childreninhousehold = []\n",
    "householdincome = []\n",
    "age = []"
   ]
  },
  {
   "cell_type": "code",
   "execution_count": 3,
   "metadata": {},
   "outputs": [
    {
     "data": {
      "text/plain": [
       "17"
      ]
     },
     "execution_count": 3,
     "metadata": {},
     "output_type": "execute_result"
    }
   ],
   "source": [
    "len(networks)"
   ]
  },
  {
   "cell_type": "code",
   "execution_count": 77,
   "metadata": {},
   "outputs": [
    {
     "data": {
      "text/plain": [
       "['via Quantcast (estimated, for June 2009)',\n",
       " 'Via Compete.com for June 2009\\nUnique Monthly Visitors: 1.4 M\\nTotal Visits: 1.8 M',\n",
       " 'Via Quantcast for June 2009\\nGender\\nMale: 45%\\nFemale: 55%',\n",
       " 'Education\\nNo College: 45%\\nCollege: 42%\\nGrad. School: 13%',\n",
       " 'Children in Household\\nYes: 59%\\nNo: 41%',\n",
       " 'Household Income\\n$0 – $30,000: 20%\\n$30,000 – $60,000: 28%\\n$60,000 – $100,000: 29%\\n$100,000+: 23%',\n",
       " 'Age\\n13-17: 7%\\n18-34: 34%\\n35-49: 32%\\n50+: 26%']"
      ]
     },
     "execution_count": 77,
     "metadata": {},
     "output_type": "execute_result"
    }
   ],
   "source": [
    "indice[13]"
   ]
  },
  {
   "cell_type": "code",
   "execution_count": 78,
   "metadata": {},
   "outputs": [
    {
     "name": "stdout",
     "output_type": "stream",
     "text": [
      "13\n",
      "13\n",
      "13\n",
      "16\n",
      "16\n"
     ]
    }
   ],
   "source": [
    "r = 0 #indice de iteraciones en trafico\n",
    "x = 0 #indice de iteraciones en datos\n",
    "y = 0\n",
    "\n",
    "for data in indice:\n",
    "    if (data[0] == '30-day traffic, (U.S., Worldwide)'):\n",
    "        for string in data[1].split('\\n'):\n",
    "                value = string.split('–')[1].split(',')\n",
    "                \"\"\"value[0] = value[0].replace({'K': '*1e3', 'M': '*1e6'}, regex=True).map(pd.eval)\n",
    "                value[0] = value[0].replace('%', '')\n",
    "                value[0] = value[0].replace('B', '')\n",
    "                value[0] = value[0].replace('s', '')\n",
    "                value[0] = value[0].replace('K', '000')\n",
    "                value[0] = value[0].replace(' ', '')\n",
    "                \n",
    "                value[1] = value[1].replace('M', 'M')\n",
    "                value[1] = value[1].replace('%', '')\n",
    "                value[1] = value[1].replace('B', '')\n",
    "                value[1] = value[1].replace('s', '')\n",
    "                value[1] = value[1].replace('K', '000')\n",
    "                value[1] = value[1].replace(' ', '')\"\"\"\n",
    "                \n",
    "                r = r+1\n",
    "                \n",
    "                if(r == 1):\n",
    "                    uniquevisitorsus.append(value[0])\n",
    "                    uniquevisitorsww.append(value[1])\n",
    "                if(r == 2):\n",
    "                    reachus.append(value[0])\n",
    "                    reachww.append(value[1])\n",
    "                if(r == 3):\n",
    "                    pageviewsus.append(value[0])\n",
    "                    pageviewsww.append(value[1])\n",
    "                if(r == 4):\n",
    "                    totalvisitsus.append(value[0])\n",
    "                    totalvisitsww.append(value[1])\n",
    "                if(r == 5):    \n",
    "                    avgvisitspervisitorus.append(value[0])\n",
    "                    avgvisitspervisitorww.append(value[1])\n",
    "                if(r == 6):    \n",
    "                    avgtimeonsiteus.append(value[0])\n",
    "                    avgtimeonsiteww.append(value[1])\n",
    "                    r = 0\n",
    "    else:\n",
    "        for string in data[1].split('\\n'):\n",
    "                value = string.split(':')\n",
    "                uniquevisits = 0\n",
    "                totalvisits = 0\n",
    "                 \n",
    "                if (len(value) == 2):\n",
    "                    uniquevisits = value[0][1]\n",
    "                    totalvisits = value[1][1]\n",
    "                elif len(value) == 3:\n",
    "                    uniquevisits = value[1][1]\n",
    "                    totalvisits = value[2][1]\n",
    "                    \n",
    "                uniquevisitorsus.append(0)\n",
    "                uniquevisitorsww.append(uniquevisits)\n",
    "            \n",
    "                reachus.append(0)\n",
    "                reachww.append(0)\n",
    "            \n",
    "                pageviewsus.append(0)\n",
    "                pageviewsww.append(0)\n",
    "            \n",
    "                totalvisitsus.append(0)\n",
    "                totalvisitsww.append(totalvisits)\n",
    "                \n",
    "                avgvisitspervisitorus.append(0)\n",
    "                avgvisitspervisitorww.append(0)\n",
    "            \n",
    "                avgtimeonsiteus.append(0)\n",
    "                avgtimeonsiteww.append(0)\n",
    "            \n",
    "    \n",
    "    x = x+1\n",
    "          "
   ]
  },
  {
   "cell_type": "code",
   "execution_count": 79,
   "metadata": {},
   "outputs": [
    {
     "data": {
      "text/plain": [
       "[' 110 M',\n",
       " ' 1.2 M',\n",
       " ' 9 M',\n",
       " ' 1.8 M',\n",
       " ' 19 M',\n",
       " ' 680K',\n",
       " ' 14 M',\n",
       " ' 570 K',\n",
       " ' 61 M',\n",
       " ' 5.6 M',\n",
       " ' 120 K',\n",
       " ' 4.2 M',\n",
       " ' 24 M',\n",
       " 0,\n",
       " ' 1.5 M',\n",
       " ' 9.7 M']"
      ]
     },
     "execution_count": 79,
     "metadata": {},
     "output_type": "execute_result"
    }
   ],
   "source": [
    "uniquevisitorsus"
   ]
  }
 ],
 "metadata": {
  "interpreter": {
   "hash": "b3ba2566441a7c06988d0923437866b63cedc61552a5af99d1f4fb67d367b25f"
  },
  "kernelspec": {
   "display_name": "Python 3.9.7 64-bit ('base': conda)",
   "language": "python",
   "name": "python3"
  },
  "language_info": {
   "codemirror_mode": {
    "name": "ipython",
    "version": 3
   },
   "file_extension": ".py",
   "mimetype": "text/x-python",
   "name": "python",
   "nbconvert_exporter": "python",
   "pygments_lexer": "ipython3",
   "version": "3.9.7"
  },
  "orig_nbformat": 4
 },
 "nbformat": 4,
 "nbformat_minor": 2
}
