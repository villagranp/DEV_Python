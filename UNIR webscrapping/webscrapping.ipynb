{
 "cells": [
  {
   "cell_type": "code",
   "execution_count": 74,
   "metadata": {},
   "outputs": [],
   "source": [
    "import urllib.request\n",
    "from bs4 import BeautifulSoup\n",
    "\n",
    "save = 0\n",
    "data = {}\n",
    "indice = []\n",
    "valores = []\n",
    "percent = []\n",
    "webpage = urllib.request.urlopen('https://www.briansolis.com/2009/10/revealing-the-people-defining-social-networks/').read().decode()\n",
    "bsWebpage = BeautifulSoup(webpage)\n",
    "tags = bsWebpage('p')\n",
    "\n",
    "for tag in tags:\n",
    "   \n",
    "    content = tag.find('img')\n",
    "    finish = tag.find('span')\n",
    "    if(content != None):\n",
    "        if (content.get('src') == 'http://www.briansolis.com/wp-content/uploads/2009/10/facebook-logo.jpg'):\n",
    "            save = 1\n",
    "            \n",
    "    if(finish != None):\n",
    "        if (finish.get('style') == 'font-weight: bold;'):\n",
    "            save = 0\n",
    "\n",
    "    if (save == 1 ):\n",
    "        if (tag.text != None and tag.text != '—' and tag.text != ''):\n",
    "            valores.append(tag.text)\n",
    "        else: \n",
    "            if (tag.text == '—'):\n",
    "                newval = valores[:]\n",
    "                indice.append(newval)\n",
    "                valores.clear()\n",
    "                \n",
    "                \n",
    "        \n"
   ]
  },
  {
   "cell_type": "code",
   "execution_count": 85,
   "metadata": {},
   "outputs": [
    {
     "data": {
      "text/plain": [
       "['30-day traffic, (U.S., Worldwide)',\n",
       " 'Unique Visitors – 110 M, 370 M\\nReach – 45.6%, 28.8%\\nPage views – 52 B, 160 B\\nTotal visits – 3.1 B, 8.7 B\\nAvg visits per visitor – 28,23\\nAvg time on site – 20:00, 23:20s',\n",
       " 'Gender\\nMale: 43%\\nFemale: 57%',\n",
       " 'Age',\n",
       " '0 – 17: 18%\\n18 – 24: 7%\\n25 – 34: 14%\\n35 – 44: 20%\\n45 – 54: 24%\\n55 – 64: 12%\\n65 or more: 4%',\n",
       " 'Household Income',\n",
       " '$0 – $24,999: 7%\\n$25,000 – $49,999: 22%\\n$50,000 – $74,999: 36%\\n$75,000 – $99,999: 18%\\n100,000 – $149,999: 12%\\n$150,000 or More: 5%',\n",
       " 'Children in Household',\n",
       " 'Yes: 36%\\nNo: 64%',\n",
       " 'Education',\n",
       " 'Less than HS diploma: 22%\\nHigh School: 14%\\nSome College: 36%\\nBachelors Degree: 20%\\nGraduate Degree: 8%']"
      ]
     },
     "execution_count": 85,
     "metadata": {},
     "output_type": "execute_result"
    }
   ],
   "source": [
    "indice[0]"
   ]
  },
  {
   "cell_type": "code",
   "execution_count": 92,
   "metadata": {},
   "outputs": [
    {
     "data": {
      "text/plain": [
       "'30-day traffic, (U.S., Worldwide)'"
      ]
     },
     "execution_count": 92,
     "metadata": {},
     "output_type": "execute_result"
    }
   ],
   "source": [
    "indice[0][0]\n"
   ]
  },
  {
   "cell_type": "code",
   "execution_count": 90,
   "metadata": {},
   "outputs": [
    {
     "data": {
      "text/plain": [
       "['Unique Visitors – 110 M, 370 M',\n",
       " 'Reach – 45.6%, 28.8%',\n",
       " 'Page views – 52 B, 160 B',\n",
       " 'Total visits – 3.1 B, 8.7 B',\n",
       " 'Avg visits per visitor – 28,23',\n",
       " 'Avg time on site – 20:00, 23:20s']"
      ]
     },
     "execution_count": 90,
     "metadata": {},
     "output_type": "execute_result"
    }
   ],
   "source": [
    "indice[0][1].split('\\n')\n"
   ]
  },
  {
   "cell_type": "code",
   "execution_count": 91,
   "metadata": {},
   "outputs": [
    {
     "data": {
      "text/plain": [
       "['Unique Visitors ', ' 110 M, 370 M']"
      ]
     },
     "execution_count": 91,
     "metadata": {},
     "output_type": "execute_result"
    }
   ],
   "source": [
    "indice[0][1].split('\\n')[0].split('–')"
   ]
  }
 ],
 "metadata": {
  "interpreter": {
   "hash": "b3ba2566441a7c06988d0923437866b63cedc61552a5af99d1f4fb67d367b25f"
  },
  "kernelspec": {
   "display_name": "Python 3.9.7 64-bit ('base': conda)",
   "language": "python",
   "name": "python3"
  },
  "language_info": {
   "codemirror_mode": {
    "name": "ipython",
    "version": 3
   },
   "file_extension": ".py",
   "mimetype": "text/x-python",
   "name": "python",
   "nbconvert_exporter": "python",
   "pygments_lexer": "ipython3",
   "version": "3.9.7"
  },
  "orig_nbformat": 4
 },
 "nbformat": 4,
 "nbformat_minor": 2
}
